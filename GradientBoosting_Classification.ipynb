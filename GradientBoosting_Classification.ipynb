{
 "cells": [
  {
   "cell_type": "markdown",
   "metadata": {},
   "source": [
    "<center><h1>Parkinson disease diagnostic using time series data</h1></center>\n",
    "<center><h2>Classification using gradient boosting</h2></center>"
   ]
  },
  {
   "cell_type": "markdown",
   "metadata": {},
   "source": [
    "# Importation of librairies"
   ]
  },
  {
   "cell_type": "code",
   "execution_count": 1,
   "metadata": {},
   "outputs": [],
   "source": [
    "import pandas as pd\n",
    "import numpy as np\n",
    "import matplotlib.pyplot as plt\n",
    "import seaborn as sns\n",
    "import time\n",
    "\n",
    "from sklearn.preprocessing import MinMaxScaler\n",
    "from sklearn.feature_selection import SelectKBest, f_classif\n",
    "from bayes_opt import BayesianOptimization\n",
    "from sklearn.model_selection import train_test_split\n",
    "from sklearn.metrics import accuracy_score, precision_score, recall_score, f1_score, roc_auc_score, roc_curve, auc\n",
    "from sklearn.metrics import confusion_matrix\n",
    "from mlxtend.evaluate import bias_variance_decomp\n",
    "import psutil\n",
    "import GPUtil\n",
    "\n",
    "from sklearn.ensemble import AdaBoostClassifier as AdaBoost\n",
    "from xgboost import XGBClassifier \n",
    "from catboost import CatBoostClassifier\n",
    "\n",
    "import warnings\n",
    "warnings.filterwarnings(\"ignore\")"
   ]
  },
  {
   "cell_type": "markdown",
   "metadata": {},
   "source": [
    "# Import the data"
   ]
  },
  {
   "cell_type": "code",
   "execution_count": 2,
   "metadata": {},
   "outputs": [
    {
     "data": {
      "text/html": [
       "<div>\n",
       "<style scoped>\n",
       "    .dataframe tbody tr th:only-of-type {\n",
       "        vertical-align: middle;\n",
       "    }\n",
       "\n",
       "    .dataframe tbody tr th {\n",
       "        vertical-align: top;\n",
       "    }\n",
       "\n",
       "    .dataframe thead th {\n",
       "        text-align: right;\n",
       "    }\n",
       "</style>\n",
       "<table border=\"1\" class=\"dataframe\">\n",
       "  <thead>\n",
       "    <tr style=\"text-align: right;\">\n",
       "      <th></th>\n",
       "      <th>ID</th>\n",
       "      <th>Study</th>\n",
       "      <th>Group</th>\n",
       "      <th>Subjnum</th>\n",
       "      <th>Gender</th>\n",
       "      <th>Age</th>\n",
       "      <th>Height (meters)</th>\n",
       "      <th>Weight (kg)</th>\n",
       "      <th>HoehnYahr</th>\n",
       "      <th>UPDRS</th>\n",
       "      <th>...</th>\n",
       "      <th>mean_swing_time_left</th>\n",
       "      <th>std_stride_left</th>\n",
       "      <th>std_swing_left</th>\n",
       "      <th>max_swing_left</th>\n",
       "      <th>min_swing_left</th>\n",
       "      <th>cv_stride_left</th>\n",
       "      <th>cv_swing_left</th>\n",
       "      <th>mean_swing_stride_ratio_left</th>\n",
       "      <th>log_left</th>\n",
       "      <th>mean_double_stance_time</th>\n",
       "    </tr>\n",
       "  </thead>\n",
       "  <tbody>\n",
       "    <tr>\n",
       "      <th>0</th>\n",
       "      <td>GaPt03</td>\n",
       "      <td>Ga</td>\n",
       "      <td>PD</td>\n",
       "      <td>3</td>\n",
       "      <td>female</td>\n",
       "      <td>82</td>\n",
       "      <td>1.45</td>\n",
       "      <td>50.000000</td>\n",
       "      <td>3.0</td>\n",
       "      <td>20.0</td>\n",
       "      <td>...</td>\n",
       "      <td>0.543326</td>\n",
       "      <td>0.250426</td>\n",
       "      <td>0.124893</td>\n",
       "      <td>0.7299</td>\n",
       "      <td>0.0100</td>\n",
       "      <td>16.856355</td>\n",
       "      <td>22.986800</td>\n",
       "      <td>36.693073</td>\n",
       "      <td>-429.032245</td>\n",
       "      <td>0.935088</td>\n",
       "    </tr>\n",
       "    <tr>\n",
       "      <th>1</th>\n",
       "      <td>GaPt04</td>\n",
       "      <td>Ga</td>\n",
       "      <td>PD</td>\n",
       "      <td>4</td>\n",
       "      <td>male</td>\n",
       "      <td>68</td>\n",
       "      <td>1.71</td>\n",
       "      <td>72.524691</td>\n",
       "      <td>2.5</td>\n",
       "      <td>25.0</td>\n",
       "      <td>...</td>\n",
       "      <td>-0.859187</td>\n",
       "      <td>0.182767</td>\n",
       "      <td>0.161860</td>\n",
       "      <td>-0.7200</td>\n",
       "      <td>-1.8899</td>\n",
       "      <td>14.242531</td>\n",
       "      <td>-18.838775</td>\n",
       "      <td>-69.058996</td>\n",
       "      <td>96.502798</td>\n",
       "      <td>0.865798</td>\n",
       "    </tr>\n",
       "    <tr>\n",
       "      <th>2</th>\n",
       "      <td>GaPt05</td>\n",
       "      <td>Ga</td>\n",
       "      <td>PD</td>\n",
       "      <td>5</td>\n",
       "      <td>female</td>\n",
       "      <td>82</td>\n",
       "      <td>1.53</td>\n",
       "      <td>51.000000</td>\n",
       "      <td>2.5</td>\n",
       "      <td>24.0</td>\n",
       "      <td>...</td>\n",
       "      <td>-0.609242</td>\n",
       "      <td>0.108519</td>\n",
       "      <td>0.044731</td>\n",
       "      <td>-0.5400</td>\n",
       "      <td>-0.8200</td>\n",
       "      <td>10.185169</td>\n",
       "      <td>-7.342067</td>\n",
       "      <td>-61.899132</td>\n",
       "      <td>41.773520</td>\n",
       "      <td>0.606564</td>\n",
       "    </tr>\n",
       "    <tr>\n",
       "      <th>3</th>\n",
       "      <td>GaPt06</td>\n",
       "      <td>Ga</td>\n",
       "      <td>PD</td>\n",
       "      <td>6</td>\n",
       "      <td>male</td>\n",
       "      <td>72</td>\n",
       "      <td>1.70</td>\n",
       "      <td>82.000000</td>\n",
       "      <td>2.0</td>\n",
       "      <td>16.0</td>\n",
       "      <td>...</td>\n",
       "      <td>0.413048</td>\n",
       "      <td>0.051538</td>\n",
       "      <td>0.019363</td>\n",
       "      <td>0.4600</td>\n",
       "      <td>0.3000</td>\n",
       "      <td>4.494682</td>\n",
       "      <td>4.687939</td>\n",
       "      <td>36.047953</td>\n",
       "      <td>-42.744401</td>\n",
       "      <td>0.154679</td>\n",
       "    </tr>\n",
       "    <tr>\n",
       "      <th>4</th>\n",
       "      <td>GaPt07</td>\n",
       "      <td>Ga</td>\n",
       "      <td>PD</td>\n",
       "      <td>7</td>\n",
       "      <td>female</td>\n",
       "      <td>53</td>\n",
       "      <td>1.67</td>\n",
       "      <td>54.000000</td>\n",
       "      <td>3.0</td>\n",
       "      <td>44.0</td>\n",
       "      <td>...</td>\n",
       "      <td>0.535093</td>\n",
       "      <td>0.535390</td>\n",
       "      <td>0.079130</td>\n",
       "      <td>0.7000</td>\n",
       "      <td>0.1800</td>\n",
       "      <td>36.544871</td>\n",
       "      <td>14.788033</td>\n",
       "      <td>38.060962</td>\n",
       "      <td>-135.812348</td>\n",
       "      <td>0.592562</td>\n",
       "    </tr>\n",
       "  </tbody>\n",
       "</table>\n",
       "<p>5 rows × 35 columns</p>\n",
       "</div>"
      ],
      "text/plain": [
       "       ID Study Group  Subjnum  Gender  Age  Height (meters)  Weight (kg)  \\\n",
       "0  GaPt03    Ga    PD        3  female   82             1.45    50.000000   \n",
       "1  GaPt04    Ga    PD        4    male   68             1.71    72.524691   \n",
       "2  GaPt05    Ga    PD        5  female   82             1.53    51.000000   \n",
       "3  GaPt06    Ga    PD        6    male   72             1.70    82.000000   \n",
       "4  GaPt07    Ga    PD        7  female   53             1.67    54.000000   \n",
       "\n",
       "   HoehnYahr  UPDRS  ...  mean_swing_time_left  std_stride_left  \\\n",
       "0        3.0   20.0  ...              0.543326         0.250426   \n",
       "1        2.5   25.0  ...             -0.859187         0.182767   \n",
       "2        2.5   24.0  ...             -0.609242         0.108519   \n",
       "3        2.0   16.0  ...              0.413048         0.051538   \n",
       "4        3.0   44.0  ...              0.535093         0.535390   \n",
       "\n",
       "   std_swing_left  max_swing_left  min_swing_left  cv_stride_left  \\\n",
       "0        0.124893          0.7299          0.0100       16.856355   \n",
       "1        0.161860         -0.7200         -1.8899       14.242531   \n",
       "2        0.044731         -0.5400         -0.8200       10.185169   \n",
       "3        0.019363          0.4600          0.3000        4.494682   \n",
       "4        0.079130          0.7000          0.1800       36.544871   \n",
       "\n",
       "   cv_swing_left  mean_swing_stride_ratio_left    log_left  \\\n",
       "0      22.986800                     36.693073 -429.032245   \n",
       "1     -18.838775                    -69.058996   96.502798   \n",
       "2      -7.342067                    -61.899132   41.773520   \n",
       "3       4.687939                     36.047953  -42.744401   \n",
       "4      14.788033                     38.060962 -135.812348   \n",
       "\n",
       "   mean_double_stance_time  \n",
       "0                 0.935088  \n",
       "1                 0.865798  \n",
       "2                 0.606564  \n",
       "3                 0.154679  \n",
       "4                 0.592562  \n",
       "\n",
       "[5 rows x 35 columns]"
      ]
     },
     "execution_count": 2,
     "metadata": {},
     "output_type": "execute_result"
    }
   ],
   "source": [
    "df = pd.read_csv('preprocessed-data\\preprocessed_data.csv')\n",
    "\n",
    "df.head()"
   ]
  },
  {
   "cell_type": "markdown",
   "metadata": {},
   "source": [
    "# Get the features and labels and encode them"
   ]
  },
  {
   "cell_type": "code",
   "execution_count": 3,
   "metadata": {},
   "outputs": [
    {
     "data": {
      "text/html": [
       "<div>\n",
       "<style scoped>\n",
       "    .dataframe tbody tr th:only-of-type {\n",
       "        vertical-align: middle;\n",
       "    }\n",
       "\n",
       "    .dataframe tbody tr th {\n",
       "        vertical-align: top;\n",
       "    }\n",
       "\n",
       "    .dataframe thead th {\n",
       "        text-align: right;\n",
       "    }\n",
       "</style>\n",
       "<table border=\"1\" class=\"dataframe\">\n",
       "  <thead>\n",
       "    <tr style=\"text-align: right;\">\n",
       "      <th></th>\n",
       "      <th>Gender</th>\n",
       "      <th>Age</th>\n",
       "      <th>Height (meters)</th>\n",
       "      <th>Weight (kg)</th>\n",
       "      <th>UPDRS</th>\n",
       "      <th>UPDRSM</th>\n",
       "      <th>TUAG</th>\n",
       "      <th>Speed_01 (m/sec)</th>\n",
       "      <th>Speed_10</th>\n",
       "      <th>mean_stride_time_right</th>\n",
       "      <th>...</th>\n",
       "      <th>mean_swing_time_left</th>\n",
       "      <th>std_stride_left</th>\n",
       "      <th>std_swing_left</th>\n",
       "      <th>max_swing_left</th>\n",
       "      <th>min_swing_left</th>\n",
       "      <th>cv_stride_left</th>\n",
       "      <th>cv_swing_left</th>\n",
       "      <th>mean_swing_stride_ratio_left</th>\n",
       "      <th>log_left</th>\n",
       "      <th>mean_double_stance_time</th>\n",
       "    </tr>\n",
       "  </thead>\n",
       "  <tbody>\n",
       "    <tr>\n",
       "      <th>0</th>\n",
       "      <td>0.0</td>\n",
       "      <td>0.92</td>\n",
       "      <td>0.000000</td>\n",
       "      <td>0.051724</td>\n",
       "      <td>0.285714</td>\n",
       "      <td>0.227273</td>\n",
       "      <td>1.000000</td>\n",
       "      <td>0.646212</td>\n",
       "      <td>0.421779</td>\n",
       "      <td>0.771538</td>\n",
       "      <td>...</td>\n",
       "      <td>0.987532</td>\n",
       "      <td>0.420505</td>\n",
       "      <td>0.450450</td>\n",
       "      <td>0.749988</td>\n",
       "      <td>0.867420</td>\n",
       "      <td>0.319581</td>\n",
       "      <td>0.971977</td>\n",
       "      <td>0.988728</td>\n",
       "      <td>0.060274</td>\n",
       "      <td>0.113510</td>\n",
       "    </tr>\n",
       "    <tr>\n",
       "      <th>1</th>\n",
       "      <td>1.0</td>\n",
       "      <td>0.64</td>\n",
       "      <td>0.001417</td>\n",
       "      <td>0.440081</td>\n",
       "      <td>0.357143</td>\n",
       "      <td>0.181818</td>\n",
       "      <td>0.158419</td>\n",
       "      <td>0.238579</td>\n",
       "      <td>0.452454</td>\n",
       "      <td>0.556148</td>\n",
       "      <td>...</td>\n",
       "      <td>0.186538</td>\n",
       "      <td>0.294175</td>\n",
       "      <td>0.596647</td>\n",
       "      <td>0.078707</td>\n",
       "      <td>0.342542</td>\n",
       "      <td>0.262351</td>\n",
       "      <td>0.388799</td>\n",
       "      <td>0.905067</td>\n",
       "      <td>0.632267</td>\n",
       "      <td>0.104723</td>\n",
       "    </tr>\n",
       "    <tr>\n",
       "      <th>2</th>\n",
       "      <td>0.0</td>\n",
       "      <td>0.92</td>\n",
       "      <td>0.000436</td>\n",
       "      <td>0.068966</td>\n",
       "      <td>0.342857</td>\n",
       "      <td>0.113636</td>\n",
       "      <td>0.274660</td>\n",
       "      <td>0.463621</td>\n",
       "      <td>0.296012</td>\n",
       "      <td>0.273847</td>\n",
       "      <td>...</td>\n",
       "      <td>0.329285</td>\n",
       "      <td>0.155544</td>\n",
       "      <td>0.133424</td>\n",
       "      <td>0.162045</td>\n",
       "      <td>0.638119</td>\n",
       "      <td>0.173516</td>\n",
       "      <td>0.549098</td>\n",
       "      <td>0.910731</td>\n",
       "      <td>0.572700</td>\n",
       "      <td>0.071850</td>\n",
       "    </tr>\n",
       "    <tr>\n",
       "      <th>3</th>\n",
       "      <td>1.0</td>\n",
       "      <td>0.72</td>\n",
       "      <td>0.001362</td>\n",
       "      <td>0.603448</td>\n",
       "      <td>0.228571</td>\n",
       "      <td>0.295455</td>\n",
       "      <td>0.140817</td>\n",
       "      <td>0.412860</td>\n",
       "      <td>0.543712</td>\n",
       "      <td>0.364814</td>\n",
       "      <td>...</td>\n",
       "      <td>0.913128</td>\n",
       "      <td>0.049153</td>\n",
       "      <td>0.033101</td>\n",
       "      <td>0.625029</td>\n",
       "      <td>0.947537</td>\n",
       "      <td>0.048924</td>\n",
       "      <td>0.716834</td>\n",
       "      <td>0.988218</td>\n",
       "      <td>0.480711</td>\n",
       "      <td>0.014548</td>\n",
       "    </tr>\n",
       "    <tr>\n",
       "      <th>4</th>\n",
       "      <td>0.0</td>\n",
       "      <td>0.34</td>\n",
       "      <td>0.001199</td>\n",
       "      <td>0.120690</td>\n",
       "      <td>0.628571</td>\n",
       "      <td>0.500000</td>\n",
       "      <td>0.402192</td>\n",
       "      <td>0.268190</td>\n",
       "      <td>0.269172</td>\n",
       "      <td>0.791183</td>\n",
       "      <td>...</td>\n",
       "      <td>0.982830</td>\n",
       "      <td>0.952574</td>\n",
       "      <td>0.269464</td>\n",
       "      <td>0.736145</td>\n",
       "      <td>0.914385</td>\n",
       "      <td>0.750658</td>\n",
       "      <td>0.857660</td>\n",
       "      <td>0.989811</td>\n",
       "      <td>0.379415</td>\n",
       "      <td>0.070075</td>\n",
       "    </tr>\n",
       "  </tbody>\n",
       "</table>\n",
       "<p>5 rows × 30 columns</p>\n",
       "</div>"
      ],
      "text/plain": [
       "   Gender   Age  Height (meters)  Weight (kg)     UPDRS    UPDRSM      TUAG  \\\n",
       "0     0.0  0.92         0.000000     0.051724  0.285714  0.227273  1.000000   \n",
       "1     1.0  0.64         0.001417     0.440081  0.357143  0.181818  0.158419   \n",
       "2     0.0  0.92         0.000436     0.068966  0.342857  0.113636  0.274660   \n",
       "3     1.0  0.72         0.001362     0.603448  0.228571  0.295455  0.140817   \n",
       "4     0.0  0.34         0.001199     0.120690  0.628571  0.500000  0.402192   \n",
       "\n",
       "   Speed_01 (m/sec)  Speed_10  mean_stride_time_right  ...  \\\n",
       "0          0.646212  0.421779                0.771538  ...   \n",
       "1          0.238579  0.452454                0.556148  ...   \n",
       "2          0.463621  0.296012                0.273847  ...   \n",
       "3          0.412860  0.543712                0.364814  ...   \n",
       "4          0.268190  0.269172                0.791183  ...   \n",
       "\n",
       "   mean_swing_time_left  std_stride_left  std_swing_left  max_swing_left  \\\n",
       "0              0.987532         0.420505        0.450450        0.749988   \n",
       "1              0.186538         0.294175        0.596647        0.078707   \n",
       "2              0.329285         0.155544        0.133424        0.162045   \n",
       "3              0.913128         0.049153        0.033101        0.625029   \n",
       "4              0.982830         0.952574        0.269464        0.736145   \n",
       "\n",
       "   min_swing_left  cv_stride_left  cv_swing_left  \\\n",
       "0        0.867420        0.319581       0.971977   \n",
       "1        0.342542        0.262351       0.388799   \n",
       "2        0.638119        0.173516       0.549098   \n",
       "3        0.947537        0.048924       0.716834   \n",
       "4        0.914385        0.750658       0.857660   \n",
       "\n",
       "   mean_swing_stride_ratio_left  log_left  mean_double_stance_time  \n",
       "0                      0.988728  0.060274                 0.113510  \n",
       "1                      0.905067  0.632267                 0.104723  \n",
       "2                      0.910731  0.572700                 0.071850  \n",
       "3                      0.988218  0.480711                 0.014548  \n",
       "4                      0.989811  0.379415                 0.070075  \n",
       "\n",
       "[5 rows x 30 columns]"
      ]
     },
     "execution_count": 3,
     "metadata": {},
     "output_type": "execute_result"
    }
   ],
   "source": [
    "# Separate the features and the label\n",
    "X = df.drop(['ID', 'Study', 'Subjnum', 'Group', 'HoehnYahr'], axis=1)\n",
    "y = df['Group']\n",
    "\n",
    "# Convert the categorical label to numbers\n",
    "y = y.astype('category')\n",
    "y = y.cat.codes\n",
    "\n",
    "# Convert \"Gender\" in X to numbers\n",
    "X['Gender'] = X['Gender'].replace({'female': 0, 'male': 1})\n",
    "\n",
    "# normalize the data\n",
    "scaler = MinMaxScaler()\n",
    "X[X.columns[:]] = scaler.fit_transform(X[X.columns[:]])\n",
    "\n",
    "X.head()"
   ]
  },
  {
   "cell_type": "code",
   "execution_count": 4,
   "metadata": {},
   "outputs": [
    {
     "data": {
      "text/plain": [
       "0    1\n",
       "1    1\n",
       "2    1\n",
       "3    1\n",
       "4    1\n",
       "dtype: int8"
      ]
     },
     "execution_count": 4,
     "metadata": {},
     "output_type": "execute_result"
    }
   ],
   "source": [
    "y.head()"
   ]
  },
  {
   "cell_type": "markdown",
   "metadata": {},
   "source": [
    "# Classification with XGBoost"
   ]
  },
  {
   "cell_type": "markdown",
   "metadata": {},
   "source": [
    "## Hyperparameters finetuning"
   ]
  },
  {
   "cell_type": "markdown",
   "metadata": {},
   "source": [
    "### create the objective function"
   ]
  },
  {
   "cell_type": "code",
   "execution_count": 7,
   "metadata": {},
   "outputs": [],
   "source": [
    "def my_xgb(k1):\n",
    "    # Perform feature selection\n",
    "    selector = SelectKBest(score_func=f_classif, k=int(k1))\n",
    "    X_selected = selector.fit_transform(X, y)\n",
    "\n",
    "    # split data into train and test sets\n",
    "    X_train, X_test, y_train, y_test = train_test_split(X_selected, y, test_size=0.2, random_state=42)\n",
    "\n",
    "    # Create a XGBoost classifier\n",
    "    model = XGBClassifier(objective='binary:logistic')\n",
    "\n",
    "    # Train the classifier\n",
    "    model.fit(X_train, y_train)\n",
    "\n",
    "    # Make predictions on the test data\n",
    "    y_pred = model.predict(X_test)\n",
    "\n",
    "    # Evaluate the model\n",
    "    return f1_score(y_test, y_pred, average='weighted')"
   ]
  },
  {
   "cell_type": "markdown",
   "metadata": {},
   "source": [
    "### Finetuning using Bayesian Optimization"
   ]
  },
  {
   "cell_type": "code",
   "execution_count": 8,
   "metadata": {},
   "outputs": [
    {
     "name": "stdout",
     "output_type": "stream",
     "text": [
      "|   iter    |  target   |    k1     |\n",
      "-------------------------------------\n",
      "| \u001b[0m1        \u001b[0m | \u001b[0m0.9696   \u001b[0m | \u001b[0m15.43    \u001b[0m |\n",
      "| \u001b[95m2        \u001b[0m | \u001b[95m1.0      \u001b[0m | \u001b[95m23.01    \u001b[0m |\n",
      "| \u001b[0m3        \u001b[0m | \u001b[0m0.9696   \u001b[0m | \u001b[0m5.003    \u001b[0m |\n",
      "| \u001b[0m4        \u001b[0m | \u001b[0m0.9696   \u001b[0m | \u001b[0m12.56    \u001b[0m |\n",
      "| \u001b[0m5        \u001b[0m | \u001b[0m0.9696   \u001b[0m | \u001b[0m8.669    \u001b[0m |\n",
      "| \u001b[0m6        \u001b[0m | \u001b[0m0.9696   \u001b[0m | \u001b[0m7.308    \u001b[0m |\n",
      "| \u001b[0m7        \u001b[0m | \u001b[0m0.9696   \u001b[0m | \u001b[0m9.657    \u001b[0m |\n",
      "| \u001b[0m8        \u001b[0m | \u001b[0m0.9696   \u001b[0m | \u001b[0m13.64    \u001b[0m |\n",
      "| \u001b[0m9        \u001b[0m | \u001b[0m0.9696   \u001b[0m | \u001b[0m14.92    \u001b[0m |\n",
      "| \u001b[0m10       \u001b[0m | \u001b[0m0.9696   \u001b[0m | \u001b[0m18.47    \u001b[0m |\n",
      "| \u001b[0m11       \u001b[0m | \u001b[0m1.0      \u001b[0m | \u001b[0m26.09    \u001b[0m |\n",
      "| \u001b[0m12       \u001b[0m | \u001b[0m1.0      \u001b[0m | \u001b[0m30.0     \u001b[0m |\n",
      "| \u001b[0m13       \u001b[0m | \u001b[0m1.0      \u001b[0m | \u001b[0m24.41    \u001b[0m |\n",
      "| \u001b[0m14       \u001b[0m | \u001b[0m1.0      \u001b[0m | \u001b[0m28.29    \u001b[0m |\n",
      "| \u001b[0m15       \u001b[0m | \u001b[0m1.0      \u001b[0m | \u001b[0m27.18    \u001b[0m |\n",
      "| \u001b[0m16       \u001b[0m | \u001b[0m1.0      \u001b[0m | \u001b[0m23.61    \u001b[0m |\n",
      "| \u001b[0m17       \u001b[0m | \u001b[0m1.0      \u001b[0m | \u001b[0m29.28    \u001b[0m |\n",
      "| \u001b[0m18       \u001b[0m | \u001b[0m1.0      \u001b[0m | \u001b[0m25.26    \u001b[0m |\n",
      "| \u001b[0m19       \u001b[0m | \u001b[0m1.0      \u001b[0m | \u001b[0m27.74    \u001b[0m |\n",
      "| \u001b[0m20       \u001b[0m | \u001b[0m1.0      \u001b[0m | \u001b[0m26.61    \u001b[0m |\n",
      "=====================================\n",
      "Bayes optimization takes 1.08 seconds to tune\n",
      "{'target': 1.0, 'params': {'k1': 23.00811233605395}}\n"
     ]
    }
   ],
   "source": [
    "pbounds = {\n",
    "    'k1': (5, 30),\n",
    "    }\n",
    "\n",
    "\n",
    "optimizer = BayesianOptimization(\n",
    "    f=my_xgb,\n",
    "    pbounds=pbounds,\n",
    "    verbose=2,\n",
    "    random_state=1,\n",
    ")\n",
    "\n",
    "start = time.time()\n",
    "optimizer.maximize(init_points=10, n_iter=10)\n",
    "end = time.time()\n",
    "print('Bayes optimization takes {:.2f} seconds to tune'.format(end - start))\n",
    "print(optimizer.max)"
   ]
  },
  {
   "cell_type": "markdown",
   "metadata": {},
   "source": [
    "## Perform Binary classification"
   ]
  },
  {
   "cell_type": "code",
   "execution_count": 26,
   "metadata": {},
   "outputs": [
    {
     "name": "stdout",
     "output_type": "stream",
     "text": [
      "Loss: 0.06924242424242424\n",
      "Accuracy: 1.0\n",
      "Precision: 1.0\n",
      "Recall: 1.0\n",
      "F1 Score: 1.0\n",
      "TP: 33\n",
      "TN: 33\n",
      "FP: 0\n",
      "FN: 0\n",
      "AUC: 1.0\n",
      "Bias: 0.0\n",
      "Variance: 0.06924242424242424\n",
      "CPU Usage: 95.4%\n",
      "Memory Usage: 0.0%\n",
      "GPU Usage: 0.0%\n",
      "Execution Time: 0.025787830352783203 seconds\n"
     ]
    }
   ],
   "source": [
    "# Perform feature selection\n",
    "selector = SelectKBest(score_func=f_classif, k=23)\n",
    "X_selected = selector.fit_transform(X, y)\n",
    "\n",
    "# split data into train and test sets\n",
    "\n",
    "X_train, X_test, y_train, y_test = train_test_split(X_selected, y, test_size=0.2, random_state=42)\n",
    "\n",
    "# Get GPU usage before running your code\n",
    "start_gpu_usage = GPUtil.getGPUs()[0].load * 100\n",
    "\n",
    "# Get CPU and Memory usage before running your code\n",
    "start_memory_usage = psutil.virtual_memory().percent\n",
    "start_cpu_usage = psutil.cpu_percent()\n",
    "\n",
    "# Create a XGBClassifier\n",
    "model = XGBClassifier(objective='binary:logistic')\n",
    "\n",
    "start = time.time()\n",
    "\n",
    "# Train the classifier\n",
    "model.fit(X_train, y_train)\n",
    "\n",
    "# Make predictions on the test data\n",
    "y_pred = model.predict(X_test)\n",
    "\n",
    "execution_time = time.time() - start\n",
    "\n",
    "# Get CPU and Memory usage after running your code\n",
    "end_cpu_usage = psutil.cpu_percent()\n",
    "end_memory_usage = psutil.virtual_memory().percent\n",
    "# Get GPU usage after running your code\n",
    "end_gpu_usage = GPUtil.getGPUs()[0].load * 100\n",
    "\n",
    "# Evaluate the performance of the classifier\n",
    "accuracy = accuracy_score(y_test, y_pred)\n",
    "precision = precision_score(y_test, y_pred, average='weighted')\n",
    "recall = recall_score(y_test, y_pred, average='weighted')\n",
    "f1 = f1_score(y_test, y_pred, average='weighted')\n",
    "\n",
    "# ROC curve multi-class classification\n",
    "y_prob = model.predict_proba(X_test).argmax(axis=1)\n",
    "macro_roc_auc_ovo = roc_auc_score(y_test.to_numpy(), y_prob, multi_class=\"ovo\", average=\"macro\")\n",
    "\n",
    "# Confusion matrix\n",
    "cm = confusion_matrix(y_test, y_pred)\n",
    "\n",
    "# Get the TP, TN, FP, FN values\n",
    "FP = cm.sum(axis=0) - np.diag(cm)  \n",
    "FN = cm.sum(axis=1) - np.diag(cm)\n",
    "TP = np.diag(cm)\n",
    "TN = cm.sum() - (FP + FN + TP)\n",
    "\n",
    "# Get the bias and variance of the classifier\n",
    "loss, bias, var = bias_variance_decomp(model,X_train, y_train.to_numpy(), X_test, y_test.to_numpy(), loss='0-1_loss',random_seed=23)\n",
    "\n",
    "# Print the evaluation metrics\n",
    "print(\"Loss:\", loss)\n",
    "print(\"Accuracy:\", accuracy)\n",
    "print(\"Precision:\", precision)\n",
    "print(\"Recall:\", recall)\n",
    "print(\"F1 Score:\", f1)\n",
    "print(\"TP:\", TP.sum())\n",
    "print(\"TN:\", TN.sum())\n",
    "print(\"FP:\", FP.sum())\n",
    "print(\"FN:\", FN.sum())\n",
    "print(\"AUC:\", macro_roc_auc_ovo)\n",
    "print(\"Bias:\", bias)\n",
    "print(\"Variance:\", var)\n",
    "print(f\"CPU Usage: {end_cpu_usage - start_cpu_usage}%\")\n",
    "print(f\"Memory Usage: {end_memory_usage - start_memory_usage}%\")\n",
    "print(f\"GPU Usage: {end_gpu_usage - start_gpu_usage}%\")\n",
    "print(f\"Execution Time: {execution_time} seconds\")"
   ]
  },
  {
   "cell_type": "code",
   "execution_count": 16,
   "metadata": {},
   "outputs": [
    {
     "data": {
      "image/png": "[encoded data removed]",
      "text/plain": [
       "<Figure size 500x500 with 1 Axes>"
      ]
     },
     "metadata": {},
     "output_type": "display_data"
    }
   ],
   "source": [
    "plt.figure(figsize=(5, 5))\n",
    "sns.heatmap(cm, annot=True, fmt='d', cmap='Blues', cbar=False)\n",
    "plt.xlabel('Predicted')\n",
    "plt.ylabel('Actual')\n",
    "plt.show()"
   ]
  },
  {
   "cell_type": "code",
   "execution_count": 20,
   "metadata": {},
   "outputs": [
    {
     "data": {
      "image/png": "[encoded data removed]",
      "text/plain": [
       "<Figure size 640x480 with 1 Axes>"
      ]
     },
     "metadata": {},
     "output_type": "display_data"
    }
   ],
   "source": [
    "# Compute the false positive rate, true positive rate, and thresholds\n",
    "fpr, tpr, thresholds = roc_curve(y_test, y_prob)\n",
    "\n",
    "# Compute the area under the ROC curve\n",
    "roc_auc = auc(fpr, tpr)\n",
    "\n",
    "# Plot the ROC curve\n",
    "plt.plot(fpr, tpr, label='ROC curve (area = {:.2f})'.format(roc_auc))\n",
    "plt.plot([0, 1], [0, 1], 'k--')\n",
    "plt.xlim([0.0, 1.0])\n",
    "plt.ylim([0.0, 1.05])\n",
    "plt.xlabel('False Positive Rate')\n",
    "plt.ylabel('True Positive Rate')\n",
    "plt.title('Receiver Operating Characteristic')\n",
    "plt.legend(loc=\"lower right\")\n",
    "plt.show()"
   ]
  },
  {
   "cell_type": "markdown",
   "metadata": {},
   "source": [
    "# Classification with CatBoost"
   ]
  },
  {
   "cell_type": "markdown",
   "metadata": {},
   "source": [
    "## Hyperparameters finetuning"
   ]
  },
  {
   "cell_type": "markdown",
   "metadata": {},
   "source": [
    "### create the objective function"
   ]
  },
  {
   "cell_type": "code",
   "execution_count": 12,
   "metadata": {},
   "outputs": [],
   "source": [
    "def my_cb(k1):\n",
    "    # Perform feature selection\n",
    "    selector = SelectKBest(score_func=f_classif, k=int(k1))\n",
    "    X_selected = selector.fit_transform(X, y)\n",
    "\n",
    "    # split data into train and test sets\n",
    "\n",
    "    X_train, X_test, y_train, y_test = train_test_split(X_selected, y, test_size=0.2, random_state=42)\n",
    "\n",
    "    # Create a CatBoostClassifier\n",
    "    model = CatBoostClassifier(verbose=False)\n",
    "\n",
    "    # Train the classifier\n",
    "    model.fit(X_train, y_train)\n",
    "\n",
    "    # Make predictions on the test data\n",
    "    y_pred = model.predict(X_test)\n",
    "\n",
    "    # Evaluate the model\n",
    "    return f1_score(y_test, y_pred, average='weighted')"
   ]
  },
  {
   "cell_type": "markdown",
   "metadata": {},
   "source": [
    "### Finetuning using Bayesian Optimization"
   ]
  },
  {
   "cell_type": "code",
   "execution_count": 13,
   "metadata": {},
   "outputs": [
    {
     "name": "stdout",
     "output_type": "stream",
     "text": [
      "|   iter    |  target   |    k1     |\n",
      "-------------------------------------\n",
      "| \u001b[0m1        \u001b[0m | \u001b[0m1.0      \u001b[0m | \u001b[0m15.43    \u001b[0m |\n",
      "| \u001b[0m2        \u001b[0m | \u001b[0m1.0      \u001b[0m | \u001b[0m23.01    \u001b[0m |\n",
      "| \u001b[0m3        \u001b[0m | \u001b[0m0.9696   \u001b[0m | \u001b[0m5.003    \u001b[0m |\n",
      "| \u001b[0m4        \u001b[0m | \u001b[0m1.0      \u001b[0m | \u001b[0m12.56    \u001b[0m |\n",
      "| \u001b[0m5        \u001b[0m | \u001b[0m1.0      \u001b[0m | \u001b[0m8.669    \u001b[0m |\n",
      "| \u001b[0m6        \u001b[0m | \u001b[0m1.0      \u001b[0m | \u001b[0m7.308    \u001b[0m |\n",
      "| \u001b[0m7        \u001b[0m | \u001b[0m1.0      \u001b[0m | \u001b[0m9.657    \u001b[0m |\n",
      "| \u001b[0m8        \u001b[0m | \u001b[0m1.0      \u001b[0m | \u001b[0m13.64    \u001b[0m |\n",
      "| \u001b[0m9        \u001b[0m | \u001b[0m1.0      \u001b[0m | \u001b[0m14.92    \u001b[0m |\n",
      "| \u001b[0m10       \u001b[0m | \u001b[0m1.0      \u001b[0m | \u001b[0m18.47    \u001b[0m |\n",
      "| \u001b[0m11       \u001b[0m | \u001b[0m1.0      \u001b[0m | \u001b[0m26.95    \u001b[0m |\n",
      "| \u001b[0m12       \u001b[0m | \u001b[0m1.0      \u001b[0m | \u001b[0m30.0     \u001b[0m |\n",
      "| \u001b[0m13       \u001b[0m | \u001b[0m1.0      \u001b[0m | \u001b[0m20.75    \u001b[0m |\n",
      "| \u001b[0m14       \u001b[0m | \u001b[0m1.0      \u001b[0m | \u001b[0m25.0     \u001b[0m |\n",
      "| \u001b[0m15       \u001b[0m | \u001b[0m1.0      \u001b[0m | \u001b[0m28.51    \u001b[0m |\n",
      "| \u001b[0m16       \u001b[0m | \u001b[0m1.0      \u001b[0m | \u001b[0m17.08    \u001b[0m |\n",
      "| \u001b[0m17       \u001b[0m | \u001b[0m1.0      \u001b[0m | \u001b[0m11.08    \u001b[0m |\n",
      "| \u001b[0m18       \u001b[0m | \u001b[0m1.0      \u001b[0m | \u001b[0m21.87    \u001b[0m |\n",
      "| \u001b[0m19       \u001b[0m | \u001b[0m1.0      \u001b[0m | \u001b[0m19.59    \u001b[0m |\n",
      "| \u001b[0m20       \u001b[0m | \u001b[0m1.0      \u001b[0m | \u001b[0m25.96    \u001b[0m |\n",
      "=====================================\n",
      "Bayes optimization takes 32.98 seconds to tune\n",
      "{'target': 1.0, 'params': {'k1': 15.42555011756435}}\n"
     ]
    }
   ],
   "source": [
    "pbounds = {\n",
    "    'k1': (5, 30),\n",
    "    }\n",
    "\n",
    "\n",
    "optimizer = BayesianOptimization(\n",
    "    f=my_cb,\n",
    "    pbounds=pbounds,\n",
    "    verbose=2,\n",
    "    random_state=1,\n",
    ")\n",
    "\n",
    "start = time.time()\n",
    "optimizer.maximize(init_points=10, n_iter=10)\n",
    "end = time.time()\n",
    "print('Bayes optimization takes {:.2f} seconds to tune'.format(end - start))\n",
    "print(optimizer.max)"
   ]
  },
  {
   "cell_type": "markdown",
   "metadata": {},
   "source": [
    "## Perform Binary classification"
   ]
  },
  {
   "cell_type": "code",
   "execution_count": 27,
   "metadata": {},
   "outputs": [
    {
     "name": "stdout",
     "output_type": "stream",
     "text": [
      "Loss: 0.03575757575757576\n",
      "Accuracy: 1.0\n",
      "Precision: 1.0\n",
      "Recall: 1.0\n",
      "F1 Score: 1.0\n",
      "TP: 33\n",
      "TN: 33\n",
      "FP: 0\n",
      "FN: 0\n",
      "AUC: 1.0\n",
      "Bias: 0.0\n",
      "Variance: 0.035757575757575766\n",
      "CPU Usage: 14.799999999999999%\n",
      "Memory Usage: 0.19999999999998863%\n",
      "GPU Usage: 0.0%\n",
      "Execution Time: 1.2624499797821045 seconds\n"
     ]
    }
   ],
   "source": [
    "# Perform feature selection\n",
    "selector = SelectKBest(score_func=f_classif, k=15)\n",
    "X_selected = selector.fit_transform(X, y)\n",
    "\n",
    "# split data into train and test sets\n",
    "\n",
    "X_train, X_test, y_train, y_test = train_test_split(X_selected, y, test_size=0.2, random_state=42)\n",
    "\n",
    "# Get GPU usage before running your code\n",
    "start_gpu_usage = GPUtil.getGPUs()[0].load * 100\n",
    "\n",
    "# Get CPU and Memory usage before running your code\n",
    "start_memory_usage = psutil.virtual_memory().percent\n",
    "start_cpu_usage = psutil.cpu_percent()\n",
    "\n",
    "start = time.time()\n",
    "\n",
    "# Create a CatBoostClassifier\n",
    "model = CatBoostClassifier(verbose=False)\n",
    "\n",
    "# Train the classifier\n",
    "model.fit(X_train, y_train)\n",
    "\n",
    "# Make predictions on the test data\n",
    "y_pred = model.predict(X_test)\n",
    "\n",
    "execution_time = time.time() - start\n",
    "\n",
    "# Get CPU and Memory usage after running your code\n",
    "end_cpu_usage = psutil.cpu_percent()\n",
    "end_memory_usage = psutil.virtual_memory().percent\n",
    "# Get GPU usage after running your code\n",
    "end_gpu_usage = GPUtil.getGPUs()[0].load * 100\n",
    "\n",
    "# Evaluate the performance of the classifier\n",
    "accuracy = accuracy_score(y_test, y_pred)\n",
    "precision = precision_score(y_test, y_pred, average='weighted')\n",
    "recall = recall_score(y_test, y_pred, average='weighted')\n",
    "f1 = f1_score(y_test, y_pred, average='weighted')\n",
    "\n",
    "# ROC curve multi-class classification\n",
    "y_prob = model.predict_proba(X_test).argmax(axis=1)\n",
    "macro_roc_auc_ovo = roc_auc_score(y_test.to_numpy(), y_prob, multi_class=\"ovo\", average=\"macro\")\n",
    "\n",
    "# Confusion matrix\n",
    "cm = confusion_matrix(y_test, y_pred)\n",
    "\n",
    "# Get the TP, TN, FP, FN values\n",
    "FP = cm.sum(axis=0) - np.diag(cm)  \n",
    "FN = cm.sum(axis=1) - np.diag(cm)\n",
    "TP = np.diag(cm)\n",
    "TN = cm.sum() - (FP + FN + TP)\n",
    "\n",
    "# Get the bias and variance of the classifier\n",
    "loss, bias, var = bias_variance_decomp(model,X_train, y_train.to_numpy(), X_test, y_test.to_numpy(), loss='0-1_loss',random_seed=23)\n",
    "\n",
    "# Print the evaluation metrics\n",
    "print(\"Loss:\", loss)\n",
    "print(\"Accuracy:\", accuracy)\n",
    "print(\"Precision:\", precision)\n",
    "print(\"Recall:\", recall)\n",
    "print(\"F1 Score:\", f1)\n",
    "print(\"TP:\", TP.sum())\n",
    "print(\"TN:\", TN.sum())\n",
    "print(\"FP:\", FP.sum())\n",
    "print(\"FN:\", FN.sum())\n",
    "print(\"AUC:\", macro_roc_auc_ovo)\n",
    "print(\"Bias:\", bias)\n",
    "print(\"Variance:\", var)\n",
    "print(f\"CPU Usage: {end_cpu_usage - start_cpu_usage}%\")\n",
    "print(f\"Memory Usage: {end_memory_usage - start_memory_usage}%\")\n",
    "print(f\"GPU Usage: {end_gpu_usage - start_gpu_usage}%\")\n",
    "print(f\"Execution Time: {execution_time} seconds\")"
   ]
  },
  {
   "cell_type": "code",
   "execution_count": 17,
   "metadata": {},
   "outputs": [
    {
     "data": {
      "image/png": "[encoded data removed]",
      "text/plain": [
       "<Figure size 500x500 with 1 Axes>"
      ]
     },
     "metadata": {},
     "output_type": "display_data"
    }
   ],
   "source": [
    "plt.figure(figsize=(5, 5))\n",
    "sns.heatmap(cm, annot=True, fmt='d', cmap='Blues', cbar=False)\n",
    "plt.xlabel('Predicted')\n",
    "plt.ylabel('Actual')\n",
    "plt.show()"
   ]
  },
  {
   "cell_type": "code",
   "execution_count": 19,
   "metadata": {},
   "outputs": [
    {
     "data": {
      "image/png": "[encoded data removed]",
      "text/plain": [
       "<Figure size 640x480 with 1 Axes>"
      ]
     },
     "metadata": {},
     "output_type": "display_data"
    }
   ],
   "source": [
    "# Compute the false positive rate, true positive rate, and thresholds\n",
    "fpr, tpr, thresholds = roc_curve(y_test, y_prob)\n",
    "\n",
    "# Compute the area under the ROC curve\n",
    "roc_auc = auc(fpr, tpr)\n",
    "\n",
    "# Plot the ROC curve\n",
    "plt.plot(fpr, tpr, label='ROC curve (area = {:.2f})'.format(roc_auc))\n",
    "plt.plot([0, 1], [0, 1], 'k--')\n",
    "plt.xlim([0.0, 1.0])\n",
    "plt.ylim([0.0, 1.05])\n",
    "plt.xlabel('False Positive Rate')\n",
    "plt.ylabel('True Positive Rate')\n",
    "plt.title('Receiver Operating Characteristic')\n",
    "plt.legend(loc=\"lower right\")\n",
    "plt.show()"
   ]
  },
  {
   "cell_type": "markdown",
   "metadata": {},
   "source": [
    "# Classification with AdaBoost"
   ]
  },
  {
   "cell_type": "markdown",
   "metadata": {},
   "source": [
    "## Hyperparameters finetuning"
   ]
  },
  {
   "cell_type": "markdown",
   "metadata": {},
   "source": [
    "### create the objective function"
   ]
  },
  {
   "cell_type": "code",
   "execution_count": 21,
   "metadata": {},
   "outputs": [],
   "source": [
    "def my_ab(k1, n):\n",
    "    # Perform feature selection\n",
    "    selector = SelectKBest(score_func=f_classif, k=int(k1))\n",
    "    X_selected = selector.fit_transform(X, y)\n",
    "\n",
    "    # split data into train and test sets\n",
    "\n",
    "    X_train, X_test, y_train, y_test = train_test_split(X_selected, y, test_size=0.2, random_state=42)\n",
    "\n",
    "    # Create a CatBoostClassifier\n",
    "    model = AdaBoost(n_estimators=int(n))\n",
    "\n",
    "    # Train the classifier\n",
    "    model.fit(X_train, y_train)\n",
    "\n",
    "    # Make predictions on the test data\n",
    "    y_pred = model.predict(X_test)\n",
    "\n",
    "    # Evaluate the model\n",
    "    return f1_score(y_test, y_pred, average='weighted')"
   ]
  },
  {
   "cell_type": "markdown",
   "metadata": {},
   "source": [
    "### Finetuning using Bayesian Optimization"
   ]
  },
  {
   "cell_type": "code",
   "execution_count": 22,
   "metadata": {},
   "outputs": [
    {
     "name": "stdout",
     "output_type": "stream",
     "text": [
      "|   iter    |  target   |    k1     |     n     |\n",
      "-------------------------------------------------\n",
      "| \u001b[0m1        \u001b[0m | \u001b[0m1.0      \u001b[0m | \u001b[0m15.43    \u001b[0m | \u001b[0m146.9    \u001b[0m |\n",
      "| \u001b[0m2        \u001b[0m | \u001b[0m0.9696   \u001b[0m | \u001b[0m5.003    \u001b[0m | \u001b[0m67.44    \u001b[0m |\n",
      "| \u001b[0m3        \u001b[0m | \u001b[0m1.0      \u001b[0m | \u001b[0m8.669    \u001b[0m | \u001b[0m27.54    \u001b[0m |\n",
      "| \u001b[0m4        \u001b[0m | \u001b[0m1.0      \u001b[0m | \u001b[0m9.657    \u001b[0m | \u001b[0m75.66    \u001b[0m |\n",
      "| \u001b[0m5        \u001b[0m | \u001b[0m1.0      \u001b[0m | \u001b[0m14.92    \u001b[0m | \u001b[0m112.4    \u001b[0m |\n",
      "| \u001b[0m6        \u001b[0m | \u001b[0m1.0      \u001b[0m | \u001b[0m15.48    \u001b[0m | \u001b[0m140.2    \u001b[0m |\n",
      "| \u001b[0m7        \u001b[0m | \u001b[0m1.0      \u001b[0m | \u001b[0m10.11    \u001b[0m | \u001b[0m176.8    \u001b[0m |\n",
      "| \u001b[0m8        \u001b[0m | \u001b[0m0.9696   \u001b[0m | \u001b[0m5.685    \u001b[0m | \u001b[0m137.4    \u001b[0m |\n",
      "| \u001b[0m9        \u001b[0m | \u001b[0m1.0      \u001b[0m | \u001b[0m15.43    \u001b[0m | \u001b[0m116.2    \u001b[0m |\n",
      "| \u001b[0m10       \u001b[0m | \u001b[0m1.0      \u001b[0m | \u001b[0m8.51     \u001b[0m | \u001b[0m47.64    \u001b[0m |\n",
      "| \u001b[0m11       \u001b[0m | \u001b[0m1.0      \u001b[0m | \u001b[0m21.91    \u001b[0m | \u001b[0m142.9    \u001b[0m |\n",
      "| \u001b[0m12       \u001b[0m | \u001b[0m1.0      \u001b[0m | \u001b[0m13.17    \u001b[0m | \u001b[0m82.4     \u001b[0m |\n",
      "| \u001b[0m13       \u001b[0m | \u001b[0m1.0      \u001b[0m | \u001b[0m8.057    \u001b[0m | \u001b[0m37.79    \u001b[0m |\n",
      "| \u001b[0m14       \u001b[0m | \u001b[0m1.0      \u001b[0m | \u001b[0m19.77    \u001b[0m | \u001b[0m75.72    \u001b[0m |\n",
      "| \u001b[0m15       \u001b[0m | \u001b[0m0.9696   \u001b[0m | \u001b[0m17.77    \u001b[0m | \u001b[0m41.62    \u001b[0m |\n",
      "| \u001b[0m16       \u001b[0m | \u001b[0m0.9696   \u001b[0m | \u001b[0m5.315    \u001b[0m | \u001b[0m82.85    \u001b[0m |\n",
      "| \u001b[0m17       \u001b[0m | \u001b[0m1.0      \u001b[0m | \u001b[0m14.68    \u001b[0m | \u001b[0m77.23    \u001b[0m |\n",
      "| \u001b[0m18       \u001b[0m | \u001b[0m1.0      \u001b[0m | \u001b[0m19.98    \u001b[0m | \u001b[0m83.24    \u001b[0m |\n",
      "| \u001b[0m19       \u001b[0m | \u001b[0m1.0      \u001b[0m | \u001b[0m21.83    \u001b[0m | \u001b[0m135.4    \u001b[0m |\n",
      "| \u001b[0m20       \u001b[0m | \u001b[0m1.0      \u001b[0m | \u001b[0m23.29    \u001b[0m | \u001b[0m113.2    \u001b[0m |\n",
      "=================================================\n",
      "Bayes optimization takes 3.21 seconds to tune\n",
      "{'target': 1.0, 'params': {'k1': 15.42555011756435, 'n': 146.86165375401004}}\n"
     ]
    }
   ],
   "source": [
    "pbounds = {\n",
    "    'k1': (5, 30),\n",
    "    'n': (10, 200)\n",
    "    }\n",
    "\n",
    "\n",
    "optimizer = BayesianOptimization(\n",
    "    f=my_ab,\n",
    "    pbounds=pbounds,\n",
    "    verbose=2,\n",
    "    random_state=1,\n",
    ")\n",
    "\n",
    "start = time.time()\n",
    "optimizer.maximize(init_points=10, n_iter=10)\n",
    "end = time.time()\n",
    "print('Bayes optimization takes {:.2f} seconds to tune'.format(end - start))\n",
    "print(optimizer.max)"
   ]
  },
  {
   "cell_type": "markdown",
   "metadata": {},
   "source": [
    "## Perform Binary classification"
   ]
  },
  {
   "cell_type": "code",
   "execution_count": 28,
   "metadata": {},
   "outputs": [
    {
     "name": "stdout",
     "output_type": "stream",
     "text": [
      "Loss: 0.021666666666666664\n",
      "Accuracy: 1.0\n",
      "Precision: 1.0\n",
      "Recall: 1.0\n",
      "F1 Score: 1.0\n",
      "TP: 33\n",
      "TN: 33\n",
      "FP: 0\n",
      "FN: 0\n",
      "AUC: 1.0\n",
      "Bias: 0.0\n",
      "Variance: 0.021666666666666667\n",
      "CPU Usage: 6.1%\n",
      "Memory Usage: 0.3999999999999915%\n",
      "GPU Usage: 0.0%\n",
      "Execution Time: 0.1696913242340088 seconds\n"
     ]
    }
   ],
   "source": [
    "# Perform feature selection\n",
    "selector = SelectKBest(score_func=f_classif, k=15)\n",
    "X_selected = selector.fit_transform(X, y)\n",
    "\n",
    "# split data into train and test sets\n",
    "\n",
    "X_train, X_test, y_train, y_test = train_test_split(X_selected, y, test_size=0.2, random_state=42)\n",
    "\n",
    "# Create a AdaBoostClassifier\n",
    "model = AdaBoost(n_estimators=146)\n",
    "\n",
    "start = time.time()\n",
    "\n",
    "# Train the classifier\n",
    "model.fit(X_train, y_train)\n",
    "\n",
    "# Make predictions on the test data\n",
    "y_pred = model.predict(X_test)\n",
    "\n",
    "execution_time = time.time() - start\n",
    "\n",
    "# Get CPU and Memory usage after running your code\n",
    "end_cpu_usage = psutil.cpu_percent()\n",
    "end_memory_usage = psutil.virtual_memory().percent\n",
    "# Get GPU usage after running your code\n",
    "end_gpu_usage = GPUtil.getGPUs()[0].load * 100\n",
    "\n",
    "# Evaluate the performance of the classifier\n",
    "accuracy = accuracy_score(y_test, y_pred)\n",
    "precision = precision_score(y_test, y_pred, average='weighted')\n",
    "recall = recall_score(y_test, y_pred, average='weighted')\n",
    "f1 = f1_score(y_test, y_pred, average='weighted')\n",
    "\n",
    "# ROC curve multi-class classification\n",
    "y_prob = model.predict_proba(X_test).argmax(axis=1)\n",
    "macro_roc_auc_ovo = roc_auc_score(y_test.to_numpy(), y_prob, multi_class=\"ovo\", average=\"macro\")\n",
    "\n",
    "# Confusion matrix\n",
    "cm = confusion_matrix(y_test, y_pred)\n",
    "\n",
    "# Get the TP, TN, FP, FN values\n",
    "FP = cm.sum(axis=0) - np.diag(cm)  \n",
    "FN = cm.sum(axis=1) - np.diag(cm)\n",
    "TP = np.diag(cm)\n",
    "TN = cm.sum() - (FP + FN + TP)\n",
    "\n",
    "# Get the bias and variance of the classifier\n",
    "loss, bias, var = bias_variance_decomp(model,X_train, y_train.to_numpy(), X_test, y_test.to_numpy(), loss='0-1_loss',random_seed=23)\n",
    "\n",
    "# Print the evaluation metrics\n",
    "print(\"Loss:\", loss)\n",
    "print(\"Accuracy:\", accuracy)\n",
    "print(\"Precision:\", precision)\n",
    "print(\"Recall:\", recall)\n",
    "print(\"F1 Score:\", f1)\n",
    "print(\"TP:\", TP.sum())\n",
    "print(\"TN:\", TN.sum())\n",
    "print(\"FP:\", FP.sum())\n",
    "print(\"FN:\", FN.sum())\n",
    "print(\"AUC:\", macro_roc_auc_ovo)\n",
    "print(\"Bias:\", bias)\n",
    "print(\"Variance:\", var)\n",
    "print(f\"CPU Usage: {end_cpu_usage - start_cpu_usage}%\")\n",
    "print(f\"Memory Usage: {end_memory_usage - start_memory_usage}%\")\n",
    "print(f\"GPU Usage: {end_gpu_usage - start_gpu_usage}%\")\n",
    "print(f\"Execution Time: {execution_time} seconds\")"
   ]
  },
  {
   "cell_type": "code",
   "execution_count": 24,
   "metadata": {},
   "outputs": [
    {
     "data": {
      "image/png": "[encoded data removed]",
      "text/plain": [
       "<Figure size 500x500 with 1 Axes>"
      ]
     },
     "metadata": {},
     "output_type": "display_data"
    }
   ],
   "source": [
    "plt.figure(figsize=(5, 5))\n",
    "sns.heatmap(cm, annot=True, fmt='d', cmap='Blues', cbar=False)\n",
    "plt.xlabel('Predicted')\n",
    "plt.ylabel('Actual')\n",
    "plt.show()"
   ]
  },
  {
   "cell_type": "code",
   "execution_count": 25,
   "metadata": {},
   "outputs": [
    {
     "data": {
      "image/png": "[encoded data removed]",
      "text/plain": [
       "<Figure size 640x480 with 1 Axes>"
      ]
     },
     "metadata": {},
     "output_type": "display_data"
    }
   ],
   "source": [
    "# Compute the false positive rate, true positive rate, and thresholds\n",
    "fpr, tpr, thresholds = roc_curve(y_test, y_prob)\n",
    "\n",
    "# Compute the area under the ROC curve\n",
    "roc_auc = auc(fpr, tpr)\n",
    "\n",
    "# Plot the ROC curve\n",
    "plt.plot(fpr, tpr, label='ROC curve (area = {:.2f})'.format(roc_auc))\n",
    "plt.plot([0, 1], [0, 1], 'k--')\n",
    "plt.xlim([0.0, 1.0])\n",
    "plt.ylim([0.0, 1.05])\n",
    "plt.xlabel('False Positive Rate')\n",
    "plt.ylabel('True Positive Rate')\n",
    "plt.title('Receiver Operating Characteristic')\n",
    "plt.legend(loc=\"lower right\")\n",
    "plt.show()"
   ]
  },
  {
   "cell_type": "code",
   "execution_count": 3,
   "metadata": {},
   "outputs": [
    {
     "data": {
      "text/plain": [
       "((44021, 100, 19), (44021,))"
      ]
     },
     "execution_count": 3,
     "metadata": {},
     "output_type": "execute_result"
    }
   ],
   "source": [
    "X = np.load(\"preprocessed-data\\X.npy\")\n",
    "y = np.load(\"preprocessed-data\\y_multi_class.npy\")\n",
    "\n",
    "X.shape, y.shape"
   ]
  },
  {
   "cell_type": "code",
   "execution_count": 5,
   "metadata": {},
   "outputs": [
    {
     "name": "stdout",
     "output_type": "stream",
     "text": [
      "|   iter    |  target   |    k1     |\n",
      "-------------------------------------\n",
      "| \u001b[0m1        \u001b[0m | \u001b[0m0.9481   \u001b[0m | \u001b[0m15.43    \u001b[0m |\n",
      "| \u001b[0m2        \u001b[0m | \u001b[0m0.9481   \u001b[0m | \u001b[0m23.01    \u001b[0m |\n",
      "| \u001b[0m3        \u001b[0m | \u001b[0m0.9481   \u001b[0m | \u001b[0m5.003    \u001b[0m |\n",
      "| \u001b[0m4        \u001b[0m | \u001b[0m0.9481   \u001b[0m | \u001b[0m12.56    \u001b[0m |\n",
      "| \u001b[0m5        \u001b[0m | \u001b[0m0.9481   \u001b[0m | \u001b[0m8.669    \u001b[0m |\n",
      "| \u001b[0m6        \u001b[0m | \u001b[0m0.9481   \u001b[0m | \u001b[0m7.308    \u001b[0m |\n",
      "| \u001b[0m7        \u001b[0m | \u001b[0m0.9481   \u001b[0m | \u001b[0m9.657    \u001b[0m |\n",
      "| \u001b[0m8        \u001b[0m | \u001b[0m0.9481   \u001b[0m | \u001b[0m13.64    \u001b[0m |\n",
      "| \u001b[0m9        \u001b[0m | \u001b[0m0.9481   \u001b[0m | \u001b[0m14.92    \u001b[0m |\n",
      "| \u001b[0m10       \u001b[0m | \u001b[0m0.9481   \u001b[0m | \u001b[0m18.47    \u001b[0m |\n",
      "| \u001b[0m11       \u001b[0m | \u001b[0m0.9481   \u001b[0m | \u001b[0m30.0     \u001b[0m |\n",
      "| \u001b[0m12       \u001b[0m | \u001b[0m0.9481   \u001b[0m | \u001b[0m25.76    \u001b[0m |\n",
      "| \u001b[0m13       \u001b[0m | \u001b[0m0.9481   \u001b[0m | \u001b[0m29.57    \u001b[0m |\n",
      "| \u001b[0m14       \u001b[0m | \u001b[0m0.9481   \u001b[0m | \u001b[0m5.054    \u001b[0m |\n",
      "| \u001b[0m15       \u001b[0m | \u001b[0m0.9481   \u001b[0m | \u001b[0m26.06    \u001b[0m |\n",
      "| \u001b[0m16       \u001b[0m | \u001b[0m0.9481   \u001b[0m | \u001b[0m17.87    \u001b[0m |\n",
      "| \u001b[0m17       \u001b[0m | \u001b[0m0.9481   \u001b[0m | \u001b[0m30.0     \u001b[0m |\n",
      "| \u001b[0m18       \u001b[0m | \u001b[0m0.9481   \u001b[0m | \u001b[0m30.0     \u001b[0m |\n",
      "| \u001b[0m19       \u001b[0m | \u001b[0m0.9481   \u001b[0m | \u001b[0m5.004    \u001b[0m |\n",
      "| \u001b[0m20       \u001b[0m | \u001b[0m0.9481   \u001b[0m | \u001b[0m29.99    \u001b[0m |\n",
      "=====================================\n",
      "Bayes optimization takes 25.06 seconds to tune\n",
      "{'target': 0.9480989568401272, 'params': {'k1': 15.42555011756435}}\n"
     ]
    }
   ],
   "source": [
    "pbounds = {\n",
    "    'k1': (5, 30),\n",
    "    }\n",
    "\n",
    "\n",
    "optimizer = BayesianOptimization(\n",
    "    f=my_xgb,\n",
    "    pbounds=pbounds,\n",
    "    verbose=2,\n",
    "    random_state=1,\n",
    ")\n",
    "\n",
    "start = time.time()\n",
    "optimizer.maximize(init_points=10, n_iter=10)\n",
    "end = time.time()\n",
    "print('Bayes optimization takes {:.2f} seconds to tune'.format(end - start))\n",
    "print(optimizer.max)"
   ]
  }
 ],
 "metadata": {
  "kernelspec": {
   "display_name": "Python 3",
   "language": "python",
   "name": "python3"
  },
  "language_info": {
   "codemirror_mode": {
    "name": "ipython",
    "version": 3
   },
   "file_extension": ".py",
   "mimetype": "text/x-python",
   "name": "python",
   "nbconvert_exporter": "python",
   "pygments_lexer": "ipython3",
   "version": "3.11.8"
  }
 },
 "nbformat": 4,
 "nbformat_minor": 2
}
