{
 "cells": [
  {
   "cell_type": "markdown",
   "metadata": {},
   "source": [
    "<center><h1>Parkinson disease diagnostic using time series data</h1></center>\n",
    "<center><h2>Classification using machine learning</h2></center>"
   ]
  },
  {
   "cell_type": "markdown",
   "metadata": {},
   "source": [
    "# Importation of librairies"
   ]
  },
  {
   "cell_type": "code",
   "execution_count": 1,
   "metadata": {},
   "outputs": [],
   "source": [
    "import pandas as pd\n",
    "import numpy as np\n",
    "import matplotlib.pyplot as plt\n",
    "import seaborn as sns\n",
    "import time\n",
    "\n",
    "from sklearn.preprocessing import MinMaxScaler\n",
    "from sklearn.feature_selection import SelectKBest, f_classif\n",
    "from bayes_opt import BayesianOptimization\n",
    "from sklearn.model_selection import train_test_split\n",
    "from sklearn.metrics import accuracy_score, precision_score, recall_score, f1_score, roc_auc_score, roc_curve, auc\n",
    "from sklearn.metrics import confusion_matrix\n",
    "from mlxtend.evaluate import bias_variance_decomp\n",
    "import psutil\n",
    "import GPUtil\n",
    "\n",
    "from sklearn.neighbors import KNeighborsClassifier\n",
    "from sklearn.svm import SVC\n",
    "from sklearn.naive_bayes import GaussianNB\n",
    "from sklearn.tree import DecisionTreeClassifier\n",
    "from sklearn.ensemble import RandomForestClassifier\n",
    "\n",
    "import warnings\n",
    "warnings.filterwarnings(\"ignore\")\n"
   ]
  },
  {
   "cell_type": "markdown",
   "metadata": {},
   "source": [
    "# Import the data"
   ]
  },
  {
   "cell_type": "code",
   "execution_count": 2,
   "metadata": {},
   "outputs": [
    {
     "data": {
      "text/html": [
       "<div>\n",
       "<style scoped>\n",
       "    .dataframe tbody tr th:only-of-type {\n",
       "        vertical-align: middle;\n",
       "    }\n",
       "\n",
       "    .dataframe tbody tr th {\n",
       "        vertical-align: top;\n",
       "    }\n",
       "\n",
       "    .dataframe thead th {\n",
       "        text-align: right;\n",
       "    }\n",
       "</style>\n",
       "<table border=\"1\" class=\"dataframe\">\n",
       "  <thead>\n",
       "    <tr style=\"text-align: right;\">\n",
       "      <th></th>\n",
       "      <th>ID</th>\n",
       "      <th>Study</th>\n",
       "      <th>Group</th>\n",
       "      <th>Subjnum</th>\n",
       "      <th>Gender</th>\n",
       "      <th>Age</th>\n",
       "      <th>Height (meters)</th>\n",
       "      <th>Weight (kg)</th>\n",
       "      <th>HoehnYahr</th>\n",
       "      <th>UPDRS</th>\n",
       "      <th>...</th>\n",
       "      <th>mean_swing_time_left</th>\n",
       "      <th>std_stride_left</th>\n",
       "      <th>std_swing_left</th>\n",
       "      <th>max_swing_left</th>\n",
       "      <th>min_swing_left</th>\n",
       "      <th>cv_stride_left</th>\n",
       "      <th>cv_swing_left</th>\n",
       "      <th>mean_swing_stride_ratio_left</th>\n",
       "      <th>log_left</th>\n",
       "      <th>mean_double_stance_time</th>\n",
       "    </tr>\n",
       "  </thead>\n",
       "  <tbody>\n",
       "    <tr>\n",
       "      <th>0</th>\n",
       "      <td>GaPt03</td>\n",
       "      <td>Ga</td>\n",
       "      <td>PD</td>\n",
       "      <td>3</td>\n",
       "      <td>female</td>\n",
       "      <td>82</td>\n",
       "      <td>1.45</td>\n",
       "      <td>50.000000</td>\n",
       "      <td>3.0</td>\n",
       "      <td>20.0</td>\n",
       "      <td>...</td>\n",
       "      <td>0.543326</td>\n",
       "      <td>0.250426</td>\n",
       "      <td>0.124893</td>\n",
       "      <td>0.7299</td>\n",
       "      <td>0.0100</td>\n",
       "      <td>16.856355</td>\n",
       "      <td>22.986800</td>\n",
       "      <td>36.693073</td>\n",
       "      <td>-429.032245</td>\n",
       "      <td>0.935088</td>\n",
       "    </tr>\n",
       "    <tr>\n",
       "      <th>1</th>\n",
       "      <td>GaPt04</td>\n",
       "      <td>Ga</td>\n",
       "      <td>PD</td>\n",
       "      <td>4</td>\n",
       "      <td>male</td>\n",
       "      <td>68</td>\n",
       "      <td>1.71</td>\n",
       "      <td>72.524691</td>\n",
       "      <td>2.5</td>\n",
       "      <td>25.0</td>\n",
       "      <td>...</td>\n",
       "      <td>-0.859187</td>\n",
       "      <td>0.182767</td>\n",
       "      <td>0.161860</td>\n",
       "      <td>-0.7200</td>\n",
       "      <td>-1.8899</td>\n",
       "      <td>14.242531</td>\n",
       "      <td>-18.838775</td>\n",
       "      <td>-69.058996</td>\n",
       "      <td>96.502798</td>\n",
       "      <td>0.865798</td>\n",
       "    </tr>\n",
       "    <tr>\n",
       "      <th>2</th>\n",
       "      <td>GaPt05</td>\n",
       "      <td>Ga</td>\n",
       "      <td>PD</td>\n",
       "      <td>5</td>\n",
       "      <td>female</td>\n",
       "      <td>82</td>\n",
       "      <td>1.53</td>\n",
       "      <td>51.000000</td>\n",
       "      <td>2.5</td>\n",
       "      <td>24.0</td>\n",
       "      <td>...</td>\n",
       "      <td>-0.609242</td>\n",
       "      <td>0.108519</td>\n",
       "      <td>0.044731</td>\n",
       "      <td>-0.5400</td>\n",
       "      <td>-0.8200</td>\n",
       "      <td>10.185169</td>\n",
       "      <td>-7.342067</td>\n",
       "      <td>-61.899132</td>\n",
       "      <td>41.773520</td>\n",
       "      <td>0.606564</td>\n",
       "    </tr>\n",
       "    <tr>\n",
       "      <th>3</th>\n",
       "      <td>GaPt06</td>\n",
       "      <td>Ga</td>\n",
       "      <td>PD</td>\n",
       "      <td>6</td>\n",
       "      <td>male</td>\n",
       "      <td>72</td>\n",
       "      <td>1.70</td>\n",
       "      <td>82.000000</td>\n",
       "      <td>2.0</td>\n",
       "      <td>16.0</td>\n",
       "      <td>...</td>\n",
       "      <td>0.413048</td>\n",
       "      <td>0.051538</td>\n",
       "      <td>0.019363</td>\n",
       "      <td>0.4600</td>\n",
       "      <td>0.3000</td>\n",
       "      <td>4.494682</td>\n",
       "      <td>4.687939</td>\n",
       "      <td>36.047953</td>\n",
       "      <td>-42.744401</td>\n",
       "      <td>0.154679</td>\n",
       "    </tr>\n",
       "    <tr>\n",
       "      <th>4</th>\n",
       "      <td>GaPt07</td>\n",
       "      <td>Ga</td>\n",
       "      <td>PD</td>\n",
       "      <td>7</td>\n",
       "      <td>female</td>\n",
       "      <td>53</td>\n",
       "      <td>1.67</td>\n",
       "      <td>54.000000</td>\n",
       "      <td>3.0</td>\n",
       "      <td>44.0</td>\n",
       "      <td>...</td>\n",
       "      <td>0.535093</td>\n",
       "      <td>0.535390</td>\n",
       "      <td>0.079130</td>\n",
       "      <td>0.7000</td>\n",
       "      <td>0.1800</td>\n",
       "      <td>36.544871</td>\n",
       "      <td>14.788033</td>\n",
       "      <td>38.060962</td>\n",
       "      <td>-135.812348</td>\n",
       "      <td>0.592562</td>\n",
       "    </tr>\n",
       "  </tbody>\n",
       "</table>\n",
       "<p>5 rows × 35 columns</p>\n",
       "</div>"
      ],
      "text/plain": [
       "       ID Study Group  Subjnum  Gender  Age  Height (meters)  Weight (kg)  \\\n",
       "0  GaPt03    Ga    PD        3  female   82             1.45    50.000000   \n",
       "1  GaPt04    Ga    PD        4    male   68             1.71    72.524691   \n",
       "2  GaPt05    Ga    PD        5  female   82             1.53    51.000000   \n",
       "3  GaPt06    Ga    PD        6    male   72             1.70    82.000000   \n",
       "4  GaPt07    Ga    PD        7  female   53             1.67    54.000000   \n",
       "\n",
       "   HoehnYahr  UPDRS  ...  mean_swing_time_left  std_stride_left  \\\n",
       "0        3.0   20.0  ...              0.543326         0.250426   \n",
       "1        2.5   25.0  ...             -0.859187         0.182767   \n",
       "2        2.5   24.0  ...             -0.609242         0.108519   \n",
       "3        2.0   16.0  ...              0.413048         0.051538   \n",
       "4        3.0   44.0  ...              0.535093         0.535390   \n",
       "\n",
       "   std_swing_left  max_swing_left  min_swing_left  cv_stride_left  \\\n",
       "0        0.124893          0.7299          0.0100       16.856355   \n",
       "1        0.161860         -0.7200         -1.8899       14.242531   \n",
       "2        0.044731         -0.5400         -0.8200       10.185169   \n",
       "3        0.019363          0.4600          0.3000        4.494682   \n",
       "4        0.079130          0.7000          0.1800       36.544871   \n",
       "\n",
       "   cv_swing_left  mean_swing_stride_ratio_left    log_left  \\\n",
       "0      22.986800                     36.693073 -429.032245   \n",
       "1     -18.838775                    -69.058996   96.502798   \n",
       "2      -7.342067                    -61.899132   41.773520   \n",
       "3       4.687939                     36.047953  -42.744401   \n",
       "4      14.788033                     38.060962 -135.812348   \n",
       "\n",
       "   mean_double_stance_time  \n",
       "0                 0.935088  \n",
       "1                 0.865798  \n",
       "2                 0.606564  \n",
       "3                 0.154679  \n",
       "4                 0.592562  \n",
       "\n",
       "[5 rows x 35 columns]"
      ]
     },
     "execution_count": 2,
     "metadata": {},
     "output_type": "execute_result"
    }
   ],
   "source": [
    "df = pd.read_csv('preprocessed-data\\preprocessed_data.csv')\n",
    "\n",
    "df.head()"
   ]
  },
  {
   "cell_type": "code",
   "execution_count": 3,
   "metadata": {},
   "outputs": [],
   "source": [
    "# read .npy files\n",
    "X = np.load('preprocessed-data\\X.npy')\n",
    "y = np.load('preprocessed-data\\y.npy')"
   ]
  },
  {
   "cell_type": "markdown",
   "metadata": {},
   "source": [
    "# Get the features and labels and encode them"
   ]
  },
  {
   "cell_type": "code",
   "execution_count": 59,
   "metadata": {},
   "outputs": [
    {
     "data": {
      "text/html": [
       "<div>\n",
       "<style scoped>\n",
       "    .dataframe tbody tr th:only-of-type {\n",
       "        vertical-align: middle;\n",
       "    }\n",
       "\n",
       "    .dataframe tbody tr th {\n",
       "        vertical-align: top;\n",
       "    }\n",
       "\n",
       "    .dataframe thead th {\n",
       "        text-align: right;\n",
       "    }\n",
       "</style>\n",
       "<table border=\"1\" class=\"dataframe\">\n",
       "  <thead>\n",
       "    <tr style=\"text-align: right;\">\n",
       "      <th></th>\n",
       "      <th>Gender</th>\n",
       "      <th>Age</th>\n",
       "      <th>Height (meters)</th>\n",
       "      <th>Weight (kg)</th>\n",
       "      <th>UPDRS</th>\n",
       "      <th>UPDRSM</th>\n",
       "      <th>TUAG</th>\n",
       "      <th>Speed_01 (m/sec)</th>\n",
       "      <th>Speed_10</th>\n",
       "      <th>mean_stride_time_right</th>\n",
       "      <th>...</th>\n",
       "      <th>mean_swing_time_left</th>\n",
       "      <th>std_stride_left</th>\n",
       "      <th>std_swing_left</th>\n",
       "      <th>max_swing_left</th>\n",
       "      <th>min_swing_left</th>\n",
       "      <th>cv_stride_left</th>\n",
       "      <th>cv_swing_left</th>\n",
       "      <th>mean_swing_stride_ratio_left</th>\n",
       "      <th>log_left</th>\n",
       "      <th>mean_double_stance_time</th>\n",
       "    </tr>\n",
       "  </thead>\n",
       "  <tbody>\n",
       "    <tr>\n",
       "      <th>0</th>\n",
       "      <td>0.0</td>\n",
       "      <td>0.92</td>\n",
       "      <td>0.000000</td>\n",
       "      <td>0.051724</td>\n",
       "      <td>0.285714</td>\n",
       "      <td>0.227273</td>\n",
       "      <td>1.000000</td>\n",
       "      <td>0.646212</td>\n",
       "      <td>0.421779</td>\n",
       "      <td>0.771538</td>\n",
       "      <td>...</td>\n",
       "      <td>0.987532</td>\n",
       "      <td>0.420505</td>\n",
       "      <td>0.450450</td>\n",
       "      <td>0.749988</td>\n",
       "      <td>0.867420</td>\n",
       "      <td>0.319581</td>\n",
       "      <td>0.971977</td>\n",
       "      <td>0.988728</td>\n",
       "      <td>0.060274</td>\n",
       "      <td>0.113510</td>\n",
       "    </tr>\n",
       "    <tr>\n",
       "      <th>1</th>\n",
       "      <td>1.0</td>\n",
       "      <td>0.64</td>\n",
       "      <td>0.001417</td>\n",
       "      <td>0.440081</td>\n",
       "      <td>0.357143</td>\n",
       "      <td>0.181818</td>\n",
       "      <td>0.158419</td>\n",
       "      <td>0.238579</td>\n",
       "      <td>0.452454</td>\n",
       "      <td>0.556148</td>\n",
       "      <td>...</td>\n",
       "      <td>0.186538</td>\n",
       "      <td>0.294175</td>\n",
       "      <td>0.596647</td>\n",
       "      <td>0.078707</td>\n",
       "      <td>0.342542</td>\n",
       "      <td>0.262351</td>\n",
       "      <td>0.388799</td>\n",
       "      <td>0.905067</td>\n",
       "      <td>0.632267</td>\n",
       "      <td>0.104723</td>\n",
       "    </tr>\n",
       "    <tr>\n",
       "      <th>2</th>\n",
       "      <td>0.0</td>\n",
       "      <td>0.92</td>\n",
       "      <td>0.000436</td>\n",
       "      <td>0.068966</td>\n",
       "      <td>0.342857</td>\n",
       "      <td>0.113636</td>\n",
       "      <td>0.274660</td>\n",
       "      <td>0.463621</td>\n",
       "      <td>0.296012</td>\n",
       "      <td>0.273847</td>\n",
       "      <td>...</td>\n",
       "      <td>0.329285</td>\n",
       "      <td>0.155544</td>\n",
       "      <td>0.133424</td>\n",
       "      <td>0.162045</td>\n",
       "      <td>0.638119</td>\n",
       "      <td>0.173516</td>\n",
       "      <td>0.549098</td>\n",
       "      <td>0.910731</td>\n",
       "      <td>0.572700</td>\n",
       "      <td>0.071850</td>\n",
       "    </tr>\n",
       "    <tr>\n",
       "      <th>3</th>\n",
       "      <td>1.0</td>\n",
       "      <td>0.72</td>\n",
       "      <td>0.001362</td>\n",
       "      <td>0.603448</td>\n",
       "      <td>0.228571</td>\n",
       "      <td>0.295455</td>\n",
       "      <td>0.140817</td>\n",
       "      <td>0.412860</td>\n",
       "      <td>0.543712</td>\n",
       "      <td>0.364814</td>\n",
       "      <td>...</td>\n",
       "      <td>0.913128</td>\n",
       "      <td>0.049153</td>\n",
       "      <td>0.033101</td>\n",
       "      <td>0.625029</td>\n",
       "      <td>0.947537</td>\n",
       "      <td>0.048924</td>\n",
       "      <td>0.716834</td>\n",
       "      <td>0.988218</td>\n",
       "      <td>0.480711</td>\n",
       "      <td>0.014548</td>\n",
       "    </tr>\n",
       "    <tr>\n",
       "      <th>4</th>\n",
       "      <td>0.0</td>\n",
       "      <td>0.34</td>\n",
       "      <td>0.001199</td>\n",
       "      <td>0.120690</td>\n",
       "      <td>0.628571</td>\n",
       "      <td>0.500000</td>\n",
       "      <td>0.402192</td>\n",
       "      <td>0.268190</td>\n",
       "      <td>0.269172</td>\n",
       "      <td>0.791183</td>\n",
       "      <td>...</td>\n",
       "      <td>0.982830</td>\n",
       "      <td>0.952574</td>\n",
       "      <td>0.269464</td>\n",
       "      <td>0.736145</td>\n",
       "      <td>0.914385</td>\n",
       "      <td>0.750658</td>\n",
       "      <td>0.857660</td>\n",
       "      <td>0.989811</td>\n",
       "      <td>0.379415</td>\n",
       "      <td>0.070075</td>\n",
       "    </tr>\n",
       "  </tbody>\n",
       "</table>\n",
       "<p>5 rows × 30 columns</p>\n",
       "</div>"
      ],
      "text/plain": [
       "   Gender   Age  Height (meters)  Weight (kg)     UPDRS    UPDRSM      TUAG  \\\n",
       "0     0.0  0.92         0.000000     0.051724  0.285714  0.227273  1.000000   \n",
       "1     1.0  0.64         0.001417     0.440081  0.357143  0.181818  0.158419   \n",
       "2     0.0  0.92         0.000436     0.068966  0.342857  0.113636  0.274660   \n",
       "3     1.0  0.72         0.001362     0.603448  0.228571  0.295455  0.140817   \n",
       "4     0.0  0.34         0.001199     0.120690  0.628571  0.500000  0.402192   \n",
       "\n",
       "   Speed_01 (m/sec)  Speed_10  mean_stride_time_right  ...  \\\n",
       "0          0.646212  0.421779                0.771538  ...   \n",
       "1          0.238579  0.452454                0.556148  ...   \n",
       "2          0.463621  0.296012                0.273847  ...   \n",
       "3          0.412860  0.543712                0.364814  ...   \n",
       "4          0.268190  0.269172                0.791183  ...   \n",
       "\n",
       "   mean_swing_time_left  std_stride_left  std_swing_left  max_swing_left  \\\n",
       "0              0.987532         0.420505        0.450450        0.749988   \n",
       "1              0.186538         0.294175        0.596647        0.078707   \n",
       "2              0.329285         0.155544        0.133424        0.162045   \n",
       "3              0.913128         0.049153        0.033101        0.625029   \n",
       "4              0.982830         0.952574        0.269464        0.736145   \n",
       "\n",
       "   min_swing_left  cv_stride_left  cv_swing_left  \\\n",
       "0        0.867420        0.319581       0.971977   \n",
       "1        0.342542        0.262351       0.388799   \n",
       "2        0.638119        0.173516       0.549098   \n",
       "3        0.947537        0.048924       0.716834   \n",
       "4        0.914385        0.750658       0.857660   \n",
       "\n",
       "   mean_swing_stride_ratio_left  log_left  mean_double_stance_time  \n",
       "0                      0.988728  0.060274                 0.113510  \n",
       "1                      0.905067  0.632267                 0.104723  \n",
       "2                      0.910731  0.572700                 0.071850  \n",
       "3                      0.988218  0.480711                 0.014548  \n",
       "4                      0.989811  0.379415                 0.070075  \n",
       "\n",
       "[5 rows x 30 columns]"
      ]
     },
     "execution_count": 59,
     "metadata": {},
     "output_type": "execute_result"
    }
   ],
   "source": [
    "# Separate the features and the label\n",
    "X = df.drop(['ID', 'Study', 'Subjnum', 'Group', 'HoehnYahr'], axis=1)\n",
    "y = df['Group']\n",
    "\n",
    "# Convert the categorical label to numbers\n",
    "y = y.astype('category')\n",
    "y = y.cat.codes\n",
    "\n",
    "# Convert \"Gender\" in X to numbers\n",
    "X['Gender'] = X['Gender'].replace({'female': 0, 'male': 1})\n",
    "\n",
    "# normalize the data\n",
    "scaler = MinMaxScaler()\n",
    "X[X.columns[:]] = scaler.fit_transform(X[X.columns[:]])\n",
    "\n",
    "X.head()"
   ]
  },
  {
   "cell_type": "code",
   "execution_count": 60,
   "metadata": {},
   "outputs": [
    {
     "data": {
      "text/plain": [
       "0    1\n",
       "1    1\n",
       "2    1\n",
       "3    1\n",
       "4    1\n",
       "dtype: int8"
      ]
     },
     "execution_count": 60,
     "metadata": {},
     "output_type": "execute_result"
    }
   ],
   "source": [
    "y.head()"
   ]
  },
  {
   "cell_type": "markdown",
   "metadata": {},
   "source": [
    "# Classification with KNN"
   ]
  },
  {
   "cell_type": "markdown",
   "metadata": {},
   "source": [
    "## Hyperparameters finetuning"
   ]
  },
  {
   "cell_type": "markdown",
   "metadata": {},
   "source": [
    "### create the objective function"
   ]
  },
  {
   "cell_type": "code",
   "execution_count": 4,
   "metadata": {},
   "outputs": [],
   "source": [
    "def my_KNN(k1, k2):\n",
    "    # Perform feature selection\n",
    "    selector = SelectKBest(score_func=f_classif, k=int(k1))\n",
    "    X_selected = selector.fit_transform(X, y)\n",
    "\n",
    "    # split data into train and test sets\n",
    "\n",
    "    X_train, X_test, y_train, y_test = train_test_split(X_selected, y, test_size=0.2, random_state=42)\n",
    "\n",
    "    # Create a KNN classifier\n",
    "    clf = KNeighborsClassifier(n_neighbors=int(k2))\n",
    "\n",
    "    # Train the classifier\n",
    "    clf.fit(X_train, y_train)\n",
    "\n",
    "    # Make predictions on the test data\n",
    "    y_pred = clf.predict(X_test)\n",
    "\n",
    "    # Evaluate the model\n",
    "    return f1_score(y_test, y_pred, average='weighted')"
   ]
  },
  {
   "cell_type": "markdown",
   "metadata": {},
   "source": [
    "### Finetuning using Bayesian Optimization"
   ]
  },
  {
   "cell_type": "code",
   "execution_count": 5,
   "metadata": {},
   "outputs": [
    {
     "name": "stdout",
     "output_type": "stream",
     "text": [
      "|   iter    |  target   |    k1     |    k2     |\n",
      "-------------------------------------------------\n",
      "| \u001b[0m1        \u001b[0m | \u001b[0m0.9609   \u001b[0m | \u001b[0m15.43    \u001b[0m | \u001b[0m8.602    \u001b[0m |\n",
      "| \u001b[95m2        \u001b[0m | \u001b[95m0.9617   \u001b[0m | \u001b[95m5.003    \u001b[0m | \u001b[95m6.512    \u001b[0m |\n",
      "| \u001b[0m3        \u001b[0m | \u001b[0m0.9613   \u001b[0m | \u001b[0m8.669    \u001b[0m | \u001b[0m5.462    \u001b[0m |\n",
      "| \u001b[0m4        \u001b[0m | \u001b[0m0.9617   \u001b[0m | \u001b[0m9.657    \u001b[0m | \u001b[0m6.728    \u001b[0m |\n",
      "| \u001b[0m5        \u001b[0m | \u001b[0m0.9606   \u001b[0m | \u001b[0m14.92    \u001b[0m | \u001b[0m7.694    \u001b[0m |\n",
      "| \u001b[0m6        \u001b[0m | \u001b[0m0.9609   \u001b[0m | \u001b[0m15.48    \u001b[0m | \u001b[0m8.426    \u001b[0m |\n",
      "| \u001b[0m7        \u001b[0m | \u001b[0m0.9592   \u001b[0m | \u001b[0m10.11    \u001b[0m | \u001b[0m9.391    \u001b[0m |\n",
      "| \u001b[0m8        \u001b[0m | \u001b[0m0.9609   \u001b[0m | \u001b[0m5.685    \u001b[0m | \u001b[0m8.352    \u001b[0m |\n",
      "| \u001b[0m9        \u001b[0m | \u001b[0m0.9606   \u001b[0m | \u001b[0m15.43    \u001b[0m | \u001b[0m7.793    \u001b[0m |\n",
      "| \u001b[0m10       \u001b[0m | \u001b[0m0.9613   \u001b[0m | \u001b[0m8.51     \u001b[0m | \u001b[0m5.991    \u001b[0m |\n",
      "| \u001b[0m11       \u001b[0m | \u001b[0m0.9613   \u001b[0m | \u001b[0m10.97    \u001b[0m | \u001b[0m5.473    \u001b[0m |\n",
      "| \u001b[0m12       \u001b[0m | \u001b[0m0.9613   \u001b[0m | \u001b[0m5.0      \u001b[0m | \u001b[0m5.0      \u001b[0m |\n",
      "| \u001b[0m13       \u001b[0m | \u001b[0m0.9592   \u001b[0m | \u001b[0m20.02    \u001b[0m | \u001b[0m9.974    \u001b[0m |\n",
      "| \u001b[0m14       \u001b[0m | \u001b[0m0.9613   \u001b[0m | \u001b[0m30.0     \u001b[0m | \u001b[0m5.0      \u001b[0m |\n",
      "| \u001b[0m15       \u001b[0m | \u001b[0m0.9606   \u001b[0m | \u001b[0m29.99    \u001b[0m | \u001b[0m7.904    \u001b[0m |\n",
      "| \u001b[0m16       \u001b[0m | \u001b[0m0.9613   \u001b[0m | \u001b[0m27.18    \u001b[0m | \u001b[0m5.0      \u001b[0m |\n",
      "| \u001b[0m17       \u001b[0m | \u001b[0m0.9613   \u001b[0m | \u001b[0m24.32    \u001b[0m | \u001b[0m5.0      \u001b[0m |\n",
      "| \u001b[0m18       \u001b[0m | \u001b[0m0.9606   \u001b[0m | \u001b[0m25.6     \u001b[0m | \u001b[0m7.419    \u001b[0m |\n",
      "| \u001b[0m19       \u001b[0m | \u001b[0m0.9613   \u001b[0m | \u001b[0m21.71    \u001b[0m | \u001b[0m5.0      \u001b[0m |\n",
      "| \u001b[0m20       \u001b[0m | \u001b[0m0.9613   \u001b[0m | \u001b[0m19.12    \u001b[0m | \u001b[0m5.0      \u001b[0m |\n",
      "=================================================\n",
      "Bayes optimization takes 7.83 seconds to tune\n",
      "{'target': 0.9617091236351043, 'params': {'k1': 5.002859370433622, 'k2': 6.511662863159199}}\n"
     ]
    }
   ],
   "source": [
    "pbounds = {\n",
    "    'k1': (5, 30),\n",
    "    'k2': (5, 10)\n",
    "    }\n",
    "\n",
    "\n",
    "optimizer = BayesianOptimization(\n",
    "    f=my_KNN,\n",
    "    pbounds=pbounds,\n",
    "    verbose=2,\n",
    "    random_state=1,\n",
    ")\n",
    "\n",
    "start = time.time()\n",
    "optimizer.maximize(init_points=10, n_iter=10)\n",
    "end = time.time()\n",
    "print('Bayes optimization takes {:.2f} seconds to tune'.format(end - start))\n",
    "print(optimizer.max)"
   ]
  },
  {
   "cell_type": "markdown",
   "metadata": {},
   "source": [
    "## Perform Binary classification"
   ]
  },
  {
   "cell_type": "code",
   "execution_count": 8,
   "metadata": {},
   "outputs": [
    {
     "name": "stdout",
     "output_type": "stream",
     "text": [
      "Loss: 0.04268767745599091\n",
      "Accuracy: 0.9617262918796139\n",
      "Precision: 0.9616942683415588\n",
      "Recall: 0.9617262918796139\n",
      "F1 Score: 0.9617091236351043\n",
      "TP: 8468\n",
      "TN: 8468\n",
      "FP: 337\n",
      "FN: 337\n",
      "AUC: 0.9549937217472619\n",
      "Bias: 0.03827370812038614\n",
      "Variance: 0.019908574673480974\n",
      "CPU Usage: 46.5%\n",
      "Memory Usage: 0.0%\n",
      "GPU Usage: 0.0%\n",
      "Execution Time: 0.34337449073791504 seconds\n"
     ]
    }
   ],
   "source": [
    "# Perform feature selection\n",
    "selector = SelectKBest(score_func=f_classif, k=int(optimizer.max['params']['k1']))\n",
    "X_selected = selector.fit_transform(X, y)\n",
    "\n",
    "# split data into train and test sets\n",
    "\n",
    "X_train, X_test, y_train, y_test = train_test_split(X_selected, y, test_size=0.2, random_state=42)\n",
    "\n",
    "# Create a KNN classifier\n",
    "clf = KNeighborsClassifier(n_neighbors=int(optimizer.max['params']['k2']))\n",
    "\n",
    "# Get GPU usage before running your code\n",
    "start_gpu_usage = GPUtil.getGPUs()[0].load * 100\n",
    "\n",
    "# Get CPU and Memory usage before running your code\n",
    "start_memory_usage = psutil.virtual_memory().percent\n",
    "start_cpu_usage = psutil.cpu_percent()\n",
    "\n",
    "start_time = time.time()\n",
    "# Train the classifier\n",
    "clf.fit(X_train, y_train)\n",
    "\n",
    "# Make predictions on the test data\n",
    "y_pred = clf.predict(X_test)\n",
    "\n",
    "execution_time = time.time() - start_time\n",
    "\n",
    "# Get CPU and Memory usage after running your code\n",
    "end_cpu_usage = psutil.cpu_percent()\n",
    "end_memory_usage = psutil.virtual_memory().percent\n",
    "# Get GPU usage after running your code\n",
    "end_gpu_usage = GPUtil.getGPUs()[0].load * 100\n",
    "\n",
    "# Evaluate the performance of the classifier\n",
    "accuracy = accuracy_score(y_test, y_pred)\n",
    "precision = precision_score(y_test, y_pred, average='weighted')\n",
    "recall = recall_score(y_test, y_pred, average='weighted')\n",
    "f1 = f1_score(y_test, y_pred, average='weighted')\n",
    "\n",
    "# ROC curve multi-class classification\n",
    "y_prob = clf.predict_proba(X_test).argmax(axis=1)\n",
    "macro_roc_auc_ovo = roc_auc_score(y_test.to_numpy(), y_prob, multi_class=\"ovo\", average=\"macro\")\n",
    "\n",
    "# Confusion matrix\n",
    "cm = confusion_matrix(y_test, y_pred)\n",
    "\n",
    "# Get the TP, TN, FP, FN values\n",
    "FP = cm.sum(axis=0) - np.diag(cm)  \n",
    "FN = cm.sum(axis=1) - np.diag(cm)\n",
    "TP = np.diag(cm)\n",
    "TN = cm.sum() - (FP + FN + TP)\n",
    "\n",
    "# Get the bias and variance of the classifier\n",
    "loss, bias, var = bias_variance_decomp(clf,X_train, y_train.to_numpy(), X_test, y_test.to_numpy(),loss='0-1_loss',random_seed=23)\n",
    "\n",
    "# Print the evaluation metrics\n",
    "print(\"Loss:\", loss)\n",
    "print(\"Accuracy:\", accuracy)\n",
    "print(\"Precision:\", precision)\n",
    "print(\"Recall:\", recall)\n",
    "print(\"F1 Score:\", f1)\n",
    "print(\"TP:\", TP.sum())\n",
    "print(\"TN:\", TN.sum())\n",
    "print(\"FP:\", FP.sum())\n",
    "print(\"FN:\", FN.sum())\n",
    "print(\"AUC:\", macro_roc_auc_ovo)\n",
    "print(\"Bias:\", bias)\n",
    "print(\"Variance:\", var)\n",
    "print(f\"CPU Usage: {end_cpu_usage - start_cpu_usage}%\")\n",
    "print(f\"Memory Usage: {end_memory_usage - start_memory_usage}%\")\n",
    "print(f\"GPU Usage: {end_gpu_usage - start_gpu_usage}%\")\n",
    "print(f\"Execution Time: {execution_time} seconds\")"
   ]
  },
  {
   "cell_type": "code",
   "execution_count": 9,
   "metadata": {},
   "outputs": [
    {
     "data": {
      "image/png": "[encoded data removed]",
      "text/plain": [
       "<Figure size 500x500 with 1 Axes>"
      ]
     },
     "metadata": {},
     "output_type": "display_data"
    }
   ],
   "source": [
    "plt.figure(figsize=(5, 5))\n",
    "sns.heatmap(cm, annot=True, fmt='d', cmap='Blues', cbar=False)\n",
    "plt.xlabel('Predicted')\n",
    "plt.ylabel('Actual')\n",
    "plt.show()"
   ]
  },
  {
   "cell_type": "code",
   "execution_count": 10,
   "metadata": {},
   "outputs": [
    {
     "data": {
      "image/png": "[encoded data removed]",
      "text/plain": [
       "<Figure size 640x480 with 1 Axes>"
      ]
     },
     "metadata": {},
     "output_type": "display_data"
    }
   ],
   "source": [
    "# Compute the false positive rate, true positive rate, and thresholds\n",
    "fpr, tpr, thresholds = roc_curve(y_test, y_prob)\n",
    "\n",
    "# Compute the area under the ROC curve\n",
    "roc_auc = auc(fpr, tpr)\n",
    "\n",
    "# Plot the ROC curve\n",
    "plt.plot(fpr, tpr, label='ROC curve (area = {:.2f})'.format(roc_auc))\n",
    "plt.plot([0, 1], [0, 1], 'k--')\n",
    "plt.xlim([0.0, 1.0])\n",
    "plt.ylim([0.0, 1.05])\n",
    "plt.xlabel('False Positive Rate')\n",
    "plt.ylabel('True Positive Rate')\n",
    "plt.title('Receiver Operating Characteristic')\n",
    "plt.legend(loc=\"lower right\")\n",
    "plt.show()\n"
   ]
  },
  {
   "cell_type": "markdown",
   "metadata": {},
   "source": [
    "# Classification with Naive Bayes"
   ]
  },
  {
   "cell_type": "markdown",
   "metadata": {},
   "source": [
    "## Hyperparameters finetuning"
   ]
  },
  {
   "cell_type": "markdown",
   "metadata": {},
   "source": [
    "### create the objective function"
   ]
  },
  {
   "cell_type": "code",
   "execution_count": 69,
   "metadata": {},
   "outputs": [],
   "source": [
    "def my_naivebayes(k1):\n",
    "    # Perform feature selection\n",
    "    selector = SelectKBest(score_func=f_classif, k=int(k1))\n",
    "    X_selected = selector.fit_transform(X, y)\n",
    "\n",
    "    # split data into train and test sets\n",
    "\n",
    "    X_train, X_test, y_train, y_test = train_test_split(X_selected, y, test_size=0.2, random_state=42)\n",
    "\n",
    "    # Create a Naive Bayes classifier\n",
    "    clf = GaussianNB()\n",
    "\n",
    "    # Train the classifier\n",
    "    clf.fit(X_train, y_train)\n",
    "\n",
    "    # Make predictions on the test data\n",
    "    y_pred = clf.predict(X_test)\n",
    "\n",
    "    # Evaluate the model\n",
    "    return f1_score(y_test, y_pred, average='weighted')"
   ]
  },
  {
   "cell_type": "markdown",
   "metadata": {},
   "source": [
    "### Finetuning using Bayesian Optimization"
   ]
  },
  {
   "cell_type": "code",
   "execution_count": 73,
   "metadata": {},
   "outputs": [
    {
     "name": "stdout",
     "output_type": "stream",
     "text": [
      "|   iter    |  target   |    k1     |\n",
      "-------------------------------------\n",
      "| \u001b[0m1        \u001b[0m | \u001b[0m0.7576   \u001b[0m | \u001b[0m15.43    \u001b[0m |\n",
      "| \u001b[95m2        \u001b[0m | \u001b[95m0.8459   \u001b[0m | \u001b[95m23.01    \u001b[0m |\n",
      "| \u001b[0m3        \u001b[0m | \u001b[0m0.8165   \u001b[0m | \u001b[0m5.003    \u001b[0m |\n",
      "| \u001b[0m4        \u001b[0m | \u001b[0m0.7576   \u001b[0m | \u001b[0m12.56    \u001b[0m |\n",
      "| \u001b[95m5        \u001b[0m | \u001b[95m0.8788   \u001b[0m | \u001b[95m8.669    \u001b[0m |\n",
      "| \u001b[0m6        \u001b[0m | \u001b[0m0.8788   \u001b[0m | \u001b[0m7.308    \u001b[0m |\n",
      "| \u001b[0m7        \u001b[0m | \u001b[0m0.8788   \u001b[0m | \u001b[0m9.657    \u001b[0m |\n",
      "| \u001b[0m8        \u001b[0m | \u001b[0m0.7576   \u001b[0m | \u001b[0m13.64    \u001b[0m |\n",
      "| \u001b[0m9        \u001b[0m | \u001b[0m0.8185   \u001b[0m | \u001b[0m14.92    \u001b[0m |\n",
      "| \u001b[0m10       \u001b[0m | \u001b[0m0.8459   \u001b[0m | \u001b[0m18.47    \u001b[0m |\n",
      "| \u001b[0m11       \u001b[0m | \u001b[0m0.8788   \u001b[0m | \u001b[0m7.966    \u001b[0m |\n",
      "| \u001b[0m12       \u001b[0m | \u001b[0m0.8788   \u001b[0m | \u001b[0m10.61    \u001b[0m |\n",
      "| \u001b[0m13       \u001b[0m | \u001b[0m0.8133   \u001b[0m | \u001b[0m20.35    \u001b[0m |\n",
      "| \u001b[0m14       \u001b[0m | \u001b[0m0.8459   \u001b[0m | \u001b[0m24.69    \u001b[0m |\n",
      "| \u001b[0m15       \u001b[0m | \u001b[0m0.8459   \u001b[0m | \u001b[0m26.42    \u001b[0m |\n",
      "| \u001b[0m16       \u001b[0m | \u001b[0m0.8182   \u001b[0m | \u001b[0m28.14    \u001b[0m |\n",
      "| \u001b[0m17       \u001b[0m | \u001b[0m0.8165   \u001b[0m | \u001b[0m6.418    \u001b[0m |\n",
      "| \u001b[0m18       \u001b[0m | \u001b[0m0.8182   \u001b[0m | \u001b[0m30.0     \u001b[0m |\n",
      "| \u001b[0m19       \u001b[0m | \u001b[0m0.8459   \u001b[0m | \u001b[0m21.89    \u001b[0m |\n",
      "| \u001b[0m20       \u001b[0m | \u001b[0m0.8459   \u001b[0m | \u001b[0m17.44    \u001b[0m |\n",
      "=====================================\n",
      "Bayes optimization takes 0.40 seconds to tune\n",
      "{'target': 0.8787878787878788, 'params': {'k1': 8.668897270427827}}\n"
     ]
    }
   ],
   "source": [
    "pbounds = {\n",
    "    'k1': (5, 30)\n",
    "    }\n",
    "\n",
    "optimizer = BayesianOptimization(\n",
    "    f=my_naivebayes,\n",
    "    pbounds=pbounds,\n",
    "    verbose=2,\n",
    "    random_state=1,\n",
    ")\n",
    "\n",
    "start = time.time()\n",
    "optimizer.maximize(init_points=10, n_iter=10)\n",
    "end = time.time()\n",
    "print('Bayes optimization takes {:.2f} seconds to tune'.format(end - start))\n",
    "print(optimizer.max)"
   ]
  },
  {
   "cell_type": "markdown",
   "metadata": {},
   "source": [
    "## Perform Binary classification"
   ]
  },
  {
   "cell_type": "code",
   "execution_count": 110,
   "metadata": {},
   "outputs": [
    {
     "name": "stdout",
     "output_type": "stream",
     "text": [
      "Loss: 0.2534848484848484\n",
      "Accuracy: 0.7878787878787878\n",
      "Precision: 0.7877648667122351\n",
      "Recall: 0.7878787878787878\n",
      "F1 Score: 0.7870880284673388\n",
      "TP: 26\n",
      "TN: 26\n",
      "FP: 7\n",
      "FN: 7\n",
      "AUC: 0.7833333333333334\n",
      "Bias: 0.15151515151515152\n",
      "Variance: 0.16015151515151516\n",
      "CPU Usage: -4.6%\n",
      "Memory Usage: 0.0%\n",
      "GPU Usage: 0.0%\n",
      "Execution Time: 0.0157928466796875 seconds\n"
     ]
    }
   ],
   "source": [
    "# Perform feature selection\n",
    "selector = SelectKBest(score_func=f_classif, k=8)\n",
    "X_selected = selector.fit_transform(X, y)\n",
    "\n",
    "# split data into train and test sets\n",
    "\n",
    "X_train, X_test, y_train, y_test = train_test_split(X, y, test_size=0.2, random_state=42)\n",
    "\n",
    "# Get GPU usage before running your code\n",
    "start_gpu_usage = GPUtil.getGPUs()[0].load * 100\n",
    "\n",
    "# Get CPU and Memory usage before running your code\n",
    "start_memory_usage = psutil.virtual_memory().percent\n",
    "start_cpu_usage = psutil.cpu_percent()\n",
    "\n",
    "# Create a Naive Bayes classifier\n",
    "clf = GaussianNB()\n",
    "\n",
    "start_time = time.time()\n",
    "\n",
    "# Train the classifier\n",
    "clf.fit(X_train, y_train)\n",
    "\n",
    "# Make predictions on the test data\n",
    "y_pred = clf.predict(X_test)\n",
    "\n",
    "execution_time = time.time() - start_time\n",
    "\n",
    "# Get CPU and Memory usage after running your code\n",
    "end_cpu_usage = psutil.cpu_percent()\n",
    "end_memory_usage = psutil.virtual_memory().percent\n",
    "# Get GPU usage after running your code\n",
    "end_gpu_usage = GPUtil.getGPUs()[0].load * 100\n",
    "\n",
    "# Evaluate the performance of the classifier\n",
    "accuracy = accuracy_score(y_test, y_pred)\n",
    "precision = precision_score(y_test, y_pred, average='weighted')\n",
    "recall = recall_score(y_test, y_pred, average='weighted')\n",
    "f1 = f1_score(y_test, y_pred, average='weighted')\n",
    "\n",
    "# ROC curve multi-class classification\n",
    "y_prob = clf.predict_proba(X_test).argmax(axis=1)\n",
    "macro_roc_auc_ovo = roc_auc_score(y_test.to_numpy(), y_prob, multi_class=\"ovo\", average=\"macro\")\n",
    "\n",
    "# Confusion matrix\n",
    "cm = confusion_matrix(y_test, y_pred)\n",
    "\n",
    "# Get the TP, TN, FP, FN values\n",
    "FP = cm.sum(axis=0) - np.diag(cm)  \n",
    "FN = cm.sum(axis=1) - np.diag(cm)\n",
    "TP = np.diag(cm)\n",
    "TN = cm.sum() - (FP + FN + TP)\n",
    "\n",
    "# Get the bias and variance of the classifier\n",
    "loss, bias, var = bias_variance_decomp(clf,X_train.to_numpy(), y_train.to_numpy(), X_test.to_numpy(), y_test.to_numpy(), loss='0-1_loss',random_seed=23)\n",
    "\n",
    "# Print the evaluation metrics\n",
    "print(\"Loss:\", loss)\n",
    "print(\"Accuracy:\", accuracy)\n",
    "print(\"Precision:\", precision)\n",
    "print(\"Recall:\", recall)\n",
    "print(\"F1 Score:\", f1)\n",
    "print(\"TP:\", TP.sum())\n",
    "print(\"TN:\", TN.sum())\n",
    "print(\"FP:\", FP.sum())\n",
    "print(\"FN:\", FN.sum())\n",
    "print(\"AUC:\", macro_roc_auc_ovo)\n",
    "print(\"Bias:\", bias)\n",
    "print(\"Variance:\", var)\n",
    "print(f\"CPU Usage: {end_cpu_usage - start_cpu_usage}%\")\n",
    "print(f\"Memory Usage: {end_memory_usage - start_memory_usage}%\")\n",
    "print(f\"GPU Usage: {end_gpu_usage - start_gpu_usage}%\")\n",
    "print(f\"Execution Time: {execution_time} seconds\")"
   ]
  },
  {
   "cell_type": "code",
   "execution_count": 81,
   "metadata": {},
   "outputs": [
    {
     "data": {
      "image/png": "[encoded data removed]",
      "text/plain": [
       "<Figure size 500x500 with 1 Axes>"
      ]
     },
     "metadata": {},
     "output_type": "display_data"
    }
   ],
   "source": [
    "plt.figure(figsize=(5, 5))\n",
    "sns.heatmap(cm, annot=True, fmt='d', cmap='Blues', cbar=False)\n",
    "plt.xlabel('Predicted')\n",
    "plt.ylabel('Actual')\n",
    "plt.show()"
   ]
  },
  {
   "cell_type": "code",
   "execution_count": 82,
   "metadata": {},
   "outputs": [
    {
     "data": {
      "image/png": "[encoded data removed]",
      "text/plain": [
       "<Figure size 640x480 with 1 Axes>"
      ]
     },
     "metadata": {},
     "output_type": "display_data"
    }
   ],
   "source": [
    "# Compute the false positive rate, true positive rate, and thresholds\n",
    "fpr, tpr, thresholds = roc_curve(y_test, y_prob)\n",
    "\n",
    "# Compute the area under the ROC curve\n",
    "roc_auc = auc(fpr, tpr)\n",
    "\n",
    "# Plot the ROC curve\n",
    "plt.plot(fpr, tpr, label='ROC curve (area = {:.2f})'.format(roc_auc))\n",
    "plt.plot([0, 1], [0, 1], 'k--')\n",
    "plt.xlim([0.0, 1.0])\n",
    "plt.ylim([0.0, 1.05])\n",
    "plt.xlabel('False Positive Rate')\n",
    "plt.ylabel('True Positive Rate')\n",
    "plt.title('Receiver Operating Characteristic')\n",
    "plt.legend(loc=\"lower right\")\n",
    "plt.show()"
   ]
  },
  {
   "cell_type": "markdown",
   "metadata": {},
   "source": [
    "# Classification with Decision trees"
   ]
  },
  {
   "cell_type": "markdown",
   "metadata": {},
   "source": [
    "## Hyperparameters finetuning"
   ]
  },
  {
   "cell_type": "markdown",
   "metadata": {},
   "source": [
    "### create the objective function"
   ]
  },
  {
   "cell_type": "code",
   "execution_count": 84,
   "metadata": {},
   "outputs": [],
   "source": [
    "def my_decisiontree(k1, md, msl, mss):\n",
    "    # Perform feature selection\n",
    "    selector = SelectKBest(score_func=f_classif, k=int(k1))\n",
    "    X_selected = selector.fit_transform(X, y)\n",
    "\n",
    "    # split data into train and test sets\n",
    "\n",
    "    X_train, X_test, y_train, y_test = train_test_split(X_selected, y, test_size=0.2, random_state=42)\n",
    "\n",
    "    # Create a Decision Tree classifier\n",
    "    clf = DecisionTreeClassifier(max_depth=int(md), min_samples_leaf=int(msl), min_samples_split=int(mss))\n",
    "\n",
    "    # Train the classifier\n",
    "    clf.fit(X_train, y_train)\n",
    "\n",
    "    # Make predictions on the test data\n",
    "    y_pred = clf.predict(X_test)\n",
    "\n",
    "    # Evaluate the model\n",
    "    return f1_score(y_test, y_pred, average='weighted')"
   ]
  },
  {
   "cell_type": "markdown",
   "metadata": {},
   "source": [
    "### Finetuning using Bayesian Optimization"
   ]
  },
  {
   "cell_type": "code",
   "execution_count": 85,
   "metadata": {},
   "outputs": [
    {
     "name": "stdout",
     "output_type": "stream",
     "text": [
      "|   iter    |  target   |    k1     |    md     |    msl    |    mss    |\n",
      "-------------------------------------------------------------------------\n",
      "| \u001b[0m1        \u001b[0m | \u001b[0m1.0      \u001b[0m | \u001b[0m15.43    \u001b[0m | \u001b[0m7.483    \u001b[0m | \u001b[0m1.001    \u001b[0m | \u001b[0m4.419    \u001b[0m |\n",
      "| \u001b[0m2        \u001b[0m | \u001b[0m0.8783   \u001b[0m | \u001b[0m8.669    \u001b[0m | \u001b[0m1.831    \u001b[0m | \u001b[0m2.676    \u001b[0m | \u001b[0m4.764    \u001b[0m |\n",
      "| \u001b[0m3        \u001b[0m | \u001b[0m1.0      \u001b[0m | \u001b[0m14.92    \u001b[0m | \u001b[0m5.849    \u001b[0m | \u001b[0m4.773    \u001b[0m | \u001b[0m7.482    \u001b[0m |\n",
      "| \u001b[0m4        \u001b[0m | \u001b[0m1.0      \u001b[0m | \u001b[0m10.11    \u001b[0m | \u001b[0m8.903    \u001b[0m | \u001b[0m1.246    \u001b[0m | \u001b[0m7.364    \u001b[0m |\n",
      "| \u001b[0m5        \u001b[0m | \u001b[0m0.9696   \u001b[0m | \u001b[0m15.43    \u001b[0m | \u001b[0m6.028    \u001b[0m | \u001b[0m2.263    \u001b[0m | \u001b[0m3.585    \u001b[0m |\n",
      "| \u001b[0m6        \u001b[0m | \u001b[0m1.0      \u001b[0m | \u001b[0m25.02    \u001b[0m | \u001b[0m9.714    \u001b[0m | \u001b[0m3.821    \u001b[0m | \u001b[0m7.539    \u001b[0m |\n",
      "| \u001b[0m7        \u001b[0m | \u001b[0m1.0      \u001b[0m | \u001b[0m26.91    \u001b[0m | \u001b[0m9.051    \u001b[0m | \u001b[0m1.765    \u001b[0m | \u001b[0m2.312    \u001b[0m |\n",
      "| \u001b[0m8        \u001b[0m | \u001b[0m1.0      \u001b[0m | \u001b[0m9.246    \u001b[0m | \u001b[0m8.903    \u001b[0m | \u001b[0m1.885    \u001b[0m | \u001b[0m5.369    \u001b[0m |\n",
      "| \u001b[0m9        \u001b[0m | \u001b[0m1.0      \u001b[0m | \u001b[0m28.95    \u001b[0m | \u001b[0m5.798    \u001b[0m | \u001b[0m7.227    \u001b[0m | \u001b[0m4.524    \u001b[0m |\n",
      "| \u001b[0m10       \u001b[0m | \u001b[0m1.0      \u001b[0m | \u001b[0m22.16    \u001b[0m | \u001b[0m8.512    \u001b[0m | \u001b[0m1.165    \u001b[0m | \u001b[0m8.001    \u001b[0m |\n",
      "| \u001b[0m11       \u001b[0m | \u001b[0m1.0      \u001b[0m | \u001b[0m17.05    \u001b[0m | \u001b[0m10.0     \u001b[0m | \u001b[0m7.07     \u001b[0m | \u001b[0m10.0     \u001b[0m |\n",
      "| \u001b[0m12       \u001b[0m | \u001b[0m0.8783   \u001b[0m | \u001b[0m22.34    \u001b[0m | \u001b[0m2.786    \u001b[0m | \u001b[0m9.406    \u001b[0m | \u001b[0m10.0     \u001b[0m |\n",
      "| \u001b[0m13       \u001b[0m | \u001b[0m1.0      \u001b[0m | \u001b[0m16.0     \u001b[0m | \u001b[0m10.0     \u001b[0m | \u001b[0m1.0      \u001b[0m | \u001b[0m10.0     \u001b[0m |\n",
      "| \u001b[0m14       \u001b[0m | \u001b[0m1.0      \u001b[0m | \u001b[0m10.22    \u001b[0m | \u001b[0m10.0     \u001b[0m | \u001b[0m9.09     \u001b[0m | \u001b[0m8.185    \u001b[0m |\n",
      "| \u001b[0m15       \u001b[0m | \u001b[0m0.8783   \u001b[0m | \u001b[0m30.0     \u001b[0m | \u001b[0m1.0      \u001b[0m | \u001b[0m1.0      \u001b[0m | \u001b[0m2.0      \u001b[0m |\n",
      "| \u001b[0m16       \u001b[0m | \u001b[0m1.0      \u001b[0m | \u001b[0m30.0     \u001b[0m | \u001b[0m10.0     \u001b[0m | \u001b[0m10.0     \u001b[0m | \u001b[0m2.0      \u001b[0m |\n",
      "| \u001b[0m17       \u001b[0m | \u001b[0m1.0      \u001b[0m | \u001b[0m21.56    \u001b[0m | \u001b[0m10.0     \u001b[0m | \u001b[0m6.796    \u001b[0m | \u001b[0m2.0      \u001b[0m |\n",
      "| \u001b[0m18       \u001b[0m | \u001b[0m1.0      \u001b[0m | \u001b[0m13.72    \u001b[0m | \u001b[0m10.0     \u001b[0m | \u001b[0m10.0     \u001b[0m | \u001b[0m2.0      \u001b[0m |\n",
      "| \u001b[0m19       \u001b[0m | \u001b[0m1.0      \u001b[0m | \u001b[0m5.0      \u001b[0m | \u001b[0m10.0     \u001b[0m | \u001b[0m10.0     \u001b[0m | \u001b[0m2.0      \u001b[0m |\n",
      "| \u001b[0m20       \u001b[0m | \u001b[0m1.0      \u001b[0m | \u001b[0m14.25    \u001b[0m | \u001b[0m10.0     \u001b[0m | \u001b[0m4.706    \u001b[0m | \u001b[0m5.586    \u001b[0m |\n",
      "=========================================================================\n",
      "Bayes optimization takes 0.97 seconds to tune\n",
      "{'target': 1.0, 'params': {'k1': 15.42555011756435, 'md': 7.482920440979423, 'msl': 1.001029373356104, 'mss': 4.418660581054718}}\n"
     ]
    }
   ],
   "source": [
    "pbounds = {\n",
    "    'k1': (5, 30),\n",
    "    'md': (1, 10),\n",
    "    'msl': (1, 10),\n",
    "    'mss': (2, 10)\n",
    "    }\n",
    "\n",
    "optimizer = BayesianOptimization(\n",
    "    f=my_decisiontree,\n",
    "    pbounds=pbounds,\n",
    "    verbose=2,\n",
    "    random_state=1,\n",
    ")\n",
    "\n",
    "start = time.time()\n",
    "optimizer.maximize(init_points=10, n_iter=10)\n",
    "end = time.time()\n",
    "print('Bayes optimization takes {:.2f} seconds to tune'.format(end - start))\n",
    "print(optimizer.max)"
   ]
  },
  {
   "cell_type": "markdown",
   "metadata": {},
   "source": [
    "## Perform Binary classification"
   ]
  },
  {
   "cell_type": "code",
   "execution_count": 111,
   "metadata": {},
   "outputs": [
    {
     "name": "stdout",
     "output_type": "stream",
     "text": [
      "Loss: 0.09318181818181817\n",
      "Accuracy: 1.0\n",
      "Precision: 1.0\n",
      "Recall: 1.0\n",
      "F1 Score: 1.0\n",
      "TP: 33\n",
      "TN: 33\n",
      "FP: 0\n",
      "FN: 0\n",
      "AUC: 1.0\n",
      "Bias: 0.0\n",
      "Variance: 0.0931818181818182\n",
      "CPU Usage: -4.6%\n",
      "Memory Usage: 0.0%\n",
      "GPU Usage: 0.0%\n",
      "Execution Time: 0.0 seconds\n"
     ]
    }
   ],
   "source": [
    "# Perform feature selection\n",
    "selector = SelectKBest(score_func=f_classif, k=15)\n",
    "X_selected = selector.fit_transform(X, y)\n",
    "\n",
    "# split data into train and test sets\n",
    "\n",
    "X_train, X_test, y_train, y_test = train_test_split(X_selected, y, test_size=0.2, random_state=42)\n",
    "\n",
    "# Get GPU usage before running your code\n",
    "start_gpu_usage = GPUtil.getGPUs()[0].load * 100\n",
    "\n",
    "# Get CPU and Memory usage before running your code\n",
    "start_memory_usage = psutil.virtual_memory().percent\n",
    "start_cpu_usage = psutil.cpu_percent()\n",
    "\n",
    "start_time = time.time()\n",
    "\n",
    "# Create a Decision Tree classifier\n",
    "clf = DecisionTreeClassifier(max_depth=7, min_samples_leaf=1, min_samples_split=4)\n",
    "\n",
    "# Train the classifier\n",
    "clf.fit(X_train, y_train)\n",
    "\n",
    "# Make predictions on the test data\n",
    "y_pred = clf.predict(X_test)\n",
    "\n",
    "execution_time = time.time() - start_time\n",
    "\n",
    "# Get CPU and Memory usage after running your code\n",
    "end_cpu_usage = psutil.cpu_percent()\n",
    "end_memory_usage = psutil.virtual_memory().percent\n",
    "# Get GPU usage after running your code\n",
    "end_gpu_usage = GPUtil.getGPUs()[0].load * 100\n",
    "\n",
    "# Evaluate the performance of the classifier\n",
    "accuracy = accuracy_score(y_test, y_pred)\n",
    "precision = precision_score(y_test, y_pred, average='weighted')\n",
    "recall = recall_score(y_test, y_pred, average='weighted')\n",
    "f1 = f1_score(y_test, y_pred, average='weighted')\n",
    "\n",
    "# ROC curve multi-class classification\n",
    "y_prob = clf.predict_proba(X_test).argmax(axis=1)\n",
    "macro_roc_auc_ovo = roc_auc_score(y_test.to_numpy(), y_prob, multi_class=\"ovo\", average=\"macro\")\n",
    "\n",
    "# Confusion matrix\n",
    "cm = confusion_matrix(y_test, y_pred)\n",
    "\n",
    "# Get the TP, TN, FP, FN values\n",
    "FP = cm.sum(axis=0) - np.diag(cm)  \n",
    "FN = cm.sum(axis=1) - np.diag(cm)\n",
    "TP = np.diag(cm)\n",
    "TN = cm.sum() - (FP + FN + TP)\n",
    "\n",
    "# Get the bias and variance of the classifier\n",
    "loss, bias, var = bias_variance_decomp(clf,X_train, y_train.to_numpy(), X_test, y_test.to_numpy(), loss='0-1_loss',random_seed=23)\n",
    "\n",
    "# Print the evaluation metrics\n",
    "print(\"Loss:\", loss)\n",
    "print(\"Accuracy:\", accuracy)\n",
    "print(\"Precision:\", precision)\n",
    "print(\"Recall:\", recall)\n",
    "print(\"F1 Score:\", f1)\n",
    "print(\"TP:\", TP.sum())\n",
    "print(\"TN:\", TN.sum())\n",
    "print(\"FP:\", FP.sum())\n",
    "print(\"FN:\", FN.sum())\n",
    "print(\"AUC:\", macro_roc_auc_ovo)\n",
    "print(\"Bias:\", bias)\n",
    "print(\"Variance:\", var)\n",
    "print(f\"CPU Usage: {end_cpu_usage - start_cpu_usage}%\")\n",
    "print(f\"Memory Usage: {end_memory_usage - start_memory_usage}%\")\n",
    "print(f\"GPU Usage: {end_gpu_usage - start_gpu_usage}%\")\n",
    "print(f\"Execution Time: {execution_time} seconds\")"
   ]
  },
  {
   "cell_type": "code",
   "execution_count": 89,
   "metadata": {},
   "outputs": [
    {
     "data": {
      "image/png": "[encoded data removed]",
      "text/plain": [
       "<Figure size 500x500 with 1 Axes>"
      ]
     },
     "metadata": {},
     "output_type": "display_data"
    }
   ],
   "source": [
    "plt.figure(figsize=(5, 5))\n",
    "sns.heatmap(cm, annot=True, fmt='d', cmap='Blues', cbar=False)\n",
    "plt.xlabel('Predicted')\n",
    "plt.ylabel('Actual')\n",
    "plt.show()"
   ]
  },
  {
   "cell_type": "code",
   "execution_count": 90,
   "metadata": {},
   "outputs": [
    {
     "data": {
      "image/png": "[encoded data removed]",
      "text/plain": [
       "<Figure size 640x480 with 1 Axes>"
      ]
     },
     "metadata": {},
     "output_type": "display_data"
    }
   ],
   "source": [
    "# Compute the false positive rate, true positive rate, and thresholds\n",
    "fpr, tpr, thresholds = roc_curve(y_test, y_prob)\n",
    "\n",
    "# Compute the area under the ROC curve\n",
    "roc_auc = auc(fpr, tpr)\n",
    "\n",
    "# Plot the ROC curve\n",
    "plt.plot(fpr, tpr, label='ROC curve (area = {:.2f})'.format(roc_auc))\n",
    "plt.plot([0, 1], [0, 1], 'k--')\n",
    "plt.xlim([0.0, 1.0])\n",
    "plt.ylim([0.0, 1.05])\n",
    "plt.xlabel('False Positive Rate')\n",
    "plt.ylabel('True Positive Rate')\n",
    "plt.title('Receiver Operating Characteristic')\n",
    "plt.legend(loc=\"lower right\")\n",
    "plt.show()"
   ]
  },
  {
   "cell_type": "markdown",
   "metadata": {},
   "source": [
    "# Classification with Random Forest"
   ]
  },
  {
   "cell_type": "markdown",
   "metadata": {},
   "source": [
    "## Hyperparameters finetuning"
   ]
  },
  {
   "cell_type": "markdown",
   "metadata": {},
   "source": [
    "### create the objective function"
   ]
  },
  {
   "cell_type": "code",
   "execution_count": 91,
   "metadata": {},
   "outputs": [],
   "source": [
    "def my_randomforest(k1, md, msl, mss, n):\n",
    "    # Perform feature selection\n",
    "    selector = SelectKBest(score_func=f_classif, k=int(k1))\n",
    "    X_selected = selector.fit_transform(X, y)\n",
    "\n",
    "    # split data into train and test sets\n",
    "\n",
    "    X_train, X_test, y_train, y_test = train_test_split(X_selected, y, test_size=0.2, random_state=42)\n",
    "\n",
    "    # Create a Random Forest classifier\n",
    "    clf = RandomForestClassifier(max_depth=int(md), min_samples_leaf=int(msl), min_samples_split=int(mss), n_estimators=int(n))\n",
    "\n",
    "    # Train the classifier\n",
    "    clf.fit(X_train, y_train)\n",
    "\n",
    "    # Make predictions on the test data\n",
    "    y_pred = clf.predict(X_test)\n",
    "\n",
    "    # Evaluate the model\n",
    "    return f1_score(y_test, y_pred, average='weighted')"
   ]
  },
  {
   "cell_type": "markdown",
   "metadata": {},
   "source": [
    "### Finetuning using Bayesian Optimization"
   ]
  },
  {
   "cell_type": "code",
   "execution_count": 92,
   "metadata": {},
   "outputs": [
    {
     "name": "stdout",
     "output_type": "stream",
     "text": [
      "|   iter    |  target   |    k1     |    md     |    msl    |    mss    |     n     |\n",
      "-------------------------------------------------------------------------------------\n",
      "| \u001b[0m1        \u001b[0m | \u001b[0m0.9388   \u001b[0m | \u001b[0m15.43    \u001b[0m | \u001b[0m7.483    \u001b[0m | \u001b[0m1.001    \u001b[0m | \u001b[0m4.419    \u001b[0m | \u001b[0m23.21    \u001b[0m |\n",
      "| \u001b[0m2        \u001b[0m | \u001b[0m0.8776   \u001b[0m | \u001b[0m7.308    \u001b[0m | \u001b[0m2.676    \u001b[0m | \u001b[0m4.11     \u001b[0m | \u001b[0m5.174    \u001b[0m | \u001b[0m58.49    \u001b[0m |\n",
      "| \u001b[95m3        \u001b[0m | \u001b[95m0.9696   \u001b[0m | \u001b[95m15.48    \u001b[0m | \u001b[95m7.167    \u001b[0m | \u001b[95m2.84     \u001b[0m | \u001b[95m9.025    \u001b[0m | \u001b[95m12.46    \u001b[0m |\n",
      "| \u001b[0m4        \u001b[0m | \u001b[0m0.9388   \u001b[0m | \u001b[0m21.76    \u001b[0m | \u001b[0m4.756    \u001b[0m | \u001b[0m6.028    \u001b[0m | \u001b[0m3.123    \u001b[0m | \u001b[0m27.83    \u001b[0m |\n",
      "| \u001b[0m5        \u001b[0m | \u001b[0m0.8755   \u001b[0m | \u001b[0m25.02    \u001b[0m | \u001b[0m9.714    \u001b[0m | \u001b[0m3.821    \u001b[0m | \u001b[0m7.539    \u001b[0m | \u001b[0m88.88    \u001b[0m |\n",
      "| \u001b[0m6        \u001b[0m | \u001b[0m0.8426   \u001b[0m | \u001b[0m27.37    \u001b[0m | \u001b[0m1.765    \u001b[0m | \u001b[0m1.351    \u001b[0m | \u001b[0m3.359    \u001b[0m | \u001b[0m89.03    \u001b[0m |\n",
      "| \u001b[0m7        \u001b[0m | \u001b[0m0.9075   \u001b[0m | \u001b[0m7.459    \u001b[0m | \u001b[0m4.79     \u001b[0m | \u001b[0m9.621    \u001b[0m | \u001b[0m6.265    \u001b[0m | \u001b[0m72.27    \u001b[0m |\n",
      "| \u001b[0m8        \u001b[0m | \u001b[0m0.8755   \u001b[0m | \u001b[0m12.89    \u001b[0m | \u001b[0m7.179    \u001b[0m | \u001b[0m8.512    \u001b[0m | \u001b[0m2.146    \u001b[0m | \u001b[0m77.51    \u001b[0m |\n",
      "| \u001b[0m9        \u001b[0m | \u001b[0m0.9696   \u001b[0m | \u001b[0m29.72    \u001b[0m | \u001b[0m7.733    \u001b[0m | \u001b[0m3.524    \u001b[0m | \u001b[0m8.314    \u001b[0m | \u001b[0m19.29    \u001b[0m |\n",
      "| \u001b[0m10       \u001b[0m | \u001b[0m0.9696   \u001b[0m | \u001b[0m16.2     \u001b[0m | \u001b[0m9.177    \u001b[0m | \u001b[0m3.643    \u001b[0m | \u001b[0m4.302    \u001b[0m | \u001b[0m21.7     \u001b[0m |\n",
      "| \u001b[0m11       \u001b[0m | \u001b[0m0.879    \u001b[0m | \u001b[0m22.83    \u001b[0m | \u001b[0m10.0     \u001b[0m | \u001b[0m10.0     \u001b[0m | \u001b[0m2.0      \u001b[0m | \u001b[0m11.45    \u001b[0m |\n",
      "| \u001b[0m12       \u001b[0m | \u001b[0m0.9696   \u001b[0m | \u001b[0m21.06    \u001b[0m | \u001b[0m10.0     \u001b[0m | \u001b[0m3.541    \u001b[0m | \u001b[0m10.0     \u001b[0m | \u001b[0m19.77    \u001b[0m |\n",
      "| \u001b[0m13       \u001b[0m | \u001b[0m0.8755   \u001b[0m | \u001b[0m10.62    \u001b[0m | \u001b[0m10.0     \u001b[0m | \u001b[0m8.967    \u001b[0m | \u001b[0m10.0     \u001b[0m | \u001b[0m19.38    \u001b[0m |\n",
      "| \u001b[0m14       \u001b[0m | \u001b[0m0.9088   \u001b[0m | \u001b[0m22.07    \u001b[0m | \u001b[0m4.72     \u001b[0m | \u001b[0m1.0      \u001b[0m | \u001b[0m6.818    \u001b[0m | \u001b[0m16.55    \u001b[0m |\n",
      "| \u001b[0m15       \u001b[0m | \u001b[0m0.9388   \u001b[0m | \u001b[0m25.0     \u001b[0m | \u001b[0m10.0     \u001b[0m | \u001b[0m4.768    \u001b[0m | \u001b[0m6.849    \u001b[0m | \u001b[0m23.35    \u001b[0m |\n",
      "| \u001b[0m16       \u001b[0m | \u001b[0m0.9696   \u001b[0m | \u001b[0m16.13    \u001b[0m | \u001b[0m10.0     \u001b[0m | \u001b[0m1.146    \u001b[0m | \u001b[0m7.8      \u001b[0m | \u001b[0m17.06    \u001b[0m |\n",
      "| \u001b[95m17       \u001b[0m | \u001b[95m1.0      \u001b[0m | \u001b[95m12.4     \u001b[0m | \u001b[95m10.0     \u001b[0m | \u001b[95m1.0      \u001b[0m | \u001b[95m4.144    \u001b[0m | \u001b[95m11.69    \u001b[0m |\n",
      "| \u001b[0m18       \u001b[0m | \u001b[0m0.9388   \u001b[0m | \u001b[0m8.845    \u001b[0m | \u001b[0m5.471    \u001b[0m | \u001b[0m1.0      \u001b[0m | \u001b[0m4.404    \u001b[0m | \u001b[0m10.0     \u001b[0m |\n",
      "| \u001b[0m19       \u001b[0m | \u001b[0m0.8776   \u001b[0m | \u001b[0m15.13    \u001b[0m | \u001b[0m9.534    \u001b[0m | \u001b[0m1.89     \u001b[0m | \u001b[0m2.619    \u001b[0m | \u001b[0m15.12    \u001b[0m |\n",
      "| \u001b[0m20       \u001b[0m | \u001b[0m1.0      \u001b[0m | \u001b[0m12.72    \u001b[0m | \u001b[0m9.228    \u001b[0m | \u001b[0m1.23     \u001b[0m | \u001b[0m6.578    \u001b[0m | \u001b[0m11.33    \u001b[0m |\n",
      "=====================================================================================\n",
      "Bayes optimization takes 2.14 seconds to tune\n",
      "{'target': 1.0, 'params': {'k1': 12.39676611999455, 'md': 10.0, 'msl': 1.0, 'mss': 4.143708293232297, 'n': 11.68956045450219}}\n"
     ]
    }
   ],
   "source": [
    "pbounds = {\n",
    "    'k1': (5, 30),\n",
    "    'md': (1, 10),\n",
    "    'msl': (1, 10),\n",
    "    'mss': (2, 10),\n",
    "    'n': (10, 100)\n",
    "    }\n",
    "\n",
    "optimizer = BayesianOptimization(\n",
    "    f=my_randomforest,\n",
    "    pbounds=pbounds,\n",
    "    verbose=2,\n",
    "    random_state=1,\n",
    ")\n",
    "\n",
    "start = time.time()\n",
    "optimizer.maximize(init_points=10, n_iter=10)\n",
    "end = time.time()\n",
    "print('Bayes optimization takes {:.2f} seconds to tune'.format(end - start))\n",
    "print(optimizer.max)"
   ]
  },
  {
   "cell_type": "markdown",
   "metadata": {},
   "source": [
    "## Perform Binary classification"
   ]
  },
  {
   "cell_type": "code",
   "execution_count": 112,
   "metadata": {},
   "outputs": [
    {
     "name": "stdout",
     "output_type": "stream",
     "text": [
      "Loss: 0.07666666666666666\n",
      "Accuracy: 0.9696969696969697\n",
      "Precision: 0.9712918660287082\n",
      "Recall: 0.9696969696969697\n",
      "F1 Score: 0.9695840040667628\n",
      "TP: 32\n",
      "TN: 32\n",
      "FP: 1\n",
      "FN: 1\n",
      "AUC: 0.9666666666666667\n",
      "Bias: 0.030303030303030304\n",
      "Variance: 0.06333333333333332\n",
      "CPU Usage: -2.0%\n",
      "Memory Usage: 0.0%\n",
      "GPU Usage: 0.0%\n",
      "Execution Time: 0.0016255378723144531 seconds\n"
     ]
    }
   ],
   "source": [
    "# Perform feature selection\n",
    "selector = SelectKBest(score_func=f_classif, k=12)\n",
    "X_selected = selector.fit_transform(X, y)\n",
    "\n",
    "# split data into train and test sets\n",
    "\n",
    "X_train, X_test, y_train, y_test = train_test_split(X_selected, y, test_size=0.2, random_state=42)\n",
    "\n",
    "# Get GPU usage before running your code\n",
    "start_gpu_usage = GPUtil.getGPUs()[0].load * 100\n",
    "\n",
    "# Get CPU and Memory usage before running your code\n",
    "start_memory_usage = psutil.virtual_memory().percent\n",
    "start_cpu_usage = psutil.cpu_percent()\n",
    "\n",
    "# Create a Random Forest classifier\n",
    "clf = RandomForestClassifier(max_depth=10, min_samples_leaf=1, min_samples_split=4, n_estimators=11)\n",
    "\n",
    "start_time = time.time()\n",
    "\n",
    "# Train the classifier\n",
    "clf.fit(X_train, y_train)\n",
    "\n",
    "# Make predictions on the test data\n",
    "y_pred = clf.predict(X_test)\n",
    "\n",
    "execution_time = time.time() - start_time\n",
    "\n",
    "# Get CPU and Memory usage after running your code\n",
    "end_cpu_usage = psutil.cpu_percent()\n",
    "end_memory_usage = psutil.virtual_memory().percent\n",
    "# Get GPU usage after running your code\n",
    "end_gpu_usage = GPUtil.getGPUs()[0].load * 100\n",
    "\n",
    "# Evaluate the performance of the classifier\n",
    "accuracy = accuracy_score(y_test, y_pred)\n",
    "precision = precision_score(y_test, y_pred, average='weighted')\n",
    "recall = recall_score(y_test, y_pred, average='weighted')\n",
    "f1 = f1_score(y_test, y_pred, average='weighted')\n",
    "\n",
    "# ROC curve multi-class classification\n",
    "y_prob = clf.predict_proba(X_test).argmax(axis=1)\n",
    "macro_roc_auc_ovo = roc_auc_score(y_test.to_numpy(), y_prob, multi_class=\"ovo\", average=\"macro\")\n",
    "\n",
    "# Confusion matrix\n",
    "cm = confusion_matrix(y_test, y_pred)\n",
    "\n",
    "# Get the TP, TN, FP, FN values\n",
    "FP = cm.sum(axis=0) - np.diag(cm)  \n",
    "FN = cm.sum(axis=1) - np.diag(cm)\n",
    "TP = np.diag(cm)\n",
    "TN = cm.sum() - (FP + FN + TP)\n",
    "\n",
    "# Get the bias and variance of the classifier\n",
    "loss, bias, var = bias_variance_decomp(clf,X_train, y_train.to_numpy(), X_test, y_test.to_numpy(), loss='0-1_loss',random_seed=23)\n",
    "\n",
    "# Print the evaluation metrics\n",
    "print(\"Loss:\", loss)\n",
    "print(\"Accuracy:\", accuracy)\n",
    "print(\"Precision:\", precision)\n",
    "print(\"Recall:\", recall)\n",
    "print(\"F1 Score:\", f1)\n",
    "print(\"TP:\", TP.sum())\n",
    "print(\"TN:\", TN.sum())\n",
    "print(\"FP:\", FP.sum())\n",
    "print(\"FN:\", FN.sum())\n",
    "print(\"AUC:\", macro_roc_auc_ovo)\n",
    "print(\"Bias:\", bias)\n",
    "print(\"Variance:\", var)\n",
    "print(f\"CPU Usage: {end_cpu_usage - start_cpu_usage}%\")\n",
    "print(f\"Memory Usage: {end_memory_usage - start_memory_usage}%\")\n",
    "print(f\"GPU Usage: {end_gpu_usage - start_gpu_usage}%\")\n",
    "print(f\"Execution Time: {execution_time} seconds\")"
   ]
  },
  {
   "cell_type": "code",
   "execution_count": 95,
   "metadata": {},
   "outputs": [
    {
     "data": {
      "image/png": "[encoded data removed]",
      "text/plain": [
       "<Figure size 500x500 with 1 Axes>"
      ]
     },
     "metadata": {},
     "output_type": "display_data"
    }
   ],
   "source": [
    "plt.figure(figsize=(5, 5))\n",
    "sns.heatmap(cm, annot=True, fmt='d', cmap='Blues', cbar=False)\n",
    "plt.xlabel('Predicted')\n",
    "plt.ylabel('Actual')\n",
    "plt.show()"
   ]
  },
  {
   "cell_type": "code",
   "execution_count": 96,
   "metadata": {},
   "outputs": [
    {
     "data": {
      "image/png": "[encoded data removed]",
      "text/plain": [
       "<Figure size 640x480 with 1 Axes>"
      ]
     },
     "metadata": {},
     "output_type": "display_data"
    }
   ],
   "source": [
    "# Compute the false positive rate, true positive rate, and thresholds\n",
    "fpr, tpr, thresholds = roc_curve(y_test, y_prob)\n",
    "\n",
    "# Compute the area under the ROC curve\n",
    "roc_auc = auc(fpr, tpr)\n",
    "\n",
    "# Plot the ROC curve\n",
    "plt.plot(fpr, tpr, label='ROC curve (area = {:.2f})'.format(roc_auc))\n",
    "plt.plot([0, 1], [0, 1], 'k--')\n",
    "plt.xlim([0.0, 1.0])\n",
    "plt.ylim([0.0, 1.05])\n",
    "plt.xlabel('False Positive Rate')\n",
    "plt.ylabel('True Positive Rate')\n",
    "plt.title('Receiver Operating Characteristic')\n",
    "plt.legend(loc=\"lower right\")\n",
    "plt.show()"
   ]
  },
  {
   "cell_type": "markdown",
   "metadata": {},
   "source": [
    "# Classification with SVM"
   ]
  },
  {
   "cell_type": "markdown",
   "metadata": {},
   "source": [
    "## Hyperparameters finetuning"
   ]
  },
  {
   "cell_type": "markdown",
   "metadata": {},
   "source": [
    "### create the objective function"
   ]
  },
  {
   "cell_type": "code",
   "execution_count": 97,
   "metadata": {},
   "outputs": [],
   "source": [
    "def my_svm(k1, c, gamma):\n",
    "    # Perform feature selection\n",
    "    selector = SelectKBest(score_func=f_classif, k=int(k1))\n",
    "    X_selected = selector.fit_transform(X, y)\n",
    "\n",
    "    # split data into train and test sets\n",
    "\n",
    "    X_train, X_test, y_train, y_test = train_test_split(X_selected, y, test_size=0.2, random_state=42)\n",
    "\n",
    "    # Create a SVM classifier\n",
    "    clf = SVC(C=c, gamma=gamma)\n",
    "\n",
    "    # Train the classifier\n",
    "    clf.fit(X_train, y_train)\n",
    "\n",
    "    # Make predictions on the test data\n",
    "    y_pred = clf.predict(X_test)\n",
    "\n",
    "    # Evaluate the model\n",
    "    return f1_score(y_test, y_pred, average='weighted')"
   ]
  },
  {
   "cell_type": "markdown",
   "metadata": {},
   "source": [
    "### Finetuning using Bayesian Optimization"
   ]
  },
  {
   "cell_type": "code",
   "execution_count": 98,
   "metadata": {},
   "outputs": [
    {
     "name": "stdout",
     "output_type": "stream",
     "text": [
      "|   iter    |  target   |     c     |   gamma   |    k1     |\n",
      "-------------------------------------------------------------\n",
      "| \u001b[0m1        \u001b[0m | \u001b[0m0.8165   \u001b[0m | \u001b[0m4.753    \u001b[0m | \u001b[0m7.483    \u001b[0m | \u001b[0m5.003    \u001b[0m |\n",
      "| \u001b[0m2        \u001b[0m | \u001b[0m0.8165   \u001b[0m | \u001b[0m3.721    \u001b[0m | \u001b[0m2.321    \u001b[0m | \u001b[0m7.308    \u001b[0m |\n",
      "| \u001b[95m3        \u001b[0m | \u001b[95m0.9075   \u001b[0m | \u001b[95m2.676    \u001b[0m | \u001b[95m4.11     \u001b[0m | \u001b[95m14.92    \u001b[0m |\n",
      "| \u001b[0m4        \u001b[0m | \u001b[0m0.9075   \u001b[0m | \u001b[0m5.849    \u001b[0m | \u001b[0m4.773    \u001b[0m | \u001b[0m22.13    \u001b[0m |\n",
      "| \u001b[0m5        \u001b[0m | \u001b[0m0.8165   \u001b[0m | \u001b[0m2.84     \u001b[0m | \u001b[0m8.903    \u001b[0m | \u001b[0m5.685    \u001b[0m |\n",
      "| \u001b[95m6        \u001b[0m | \u001b[95m0.9088   \u001b[0m | \u001b[95m7.034    \u001b[0m | \u001b[95m4.756    \u001b[0m | \u001b[95m18.97    \u001b[0m |\n",
      "| \u001b[0m7        \u001b[0m | \u001b[0m0.9075   \u001b[0m | \u001b[0m2.263    \u001b[0m | \u001b[0m2.783    \u001b[0m | \u001b[0m25.02    \u001b[0m |\n",
      "| \u001b[0m8        \u001b[0m | \u001b[0m0.8479   \u001b[0m | \u001b[0m9.714    \u001b[0m | \u001b[0m3.821    \u001b[0m | \u001b[0m22.31    \u001b[0m |\n",
      "| \u001b[0m9        \u001b[0m | \u001b[0m0.8133   \u001b[0m | \u001b[0m8.888    \u001b[0m | \u001b[0m9.051    \u001b[0m | \u001b[0m7.126    \u001b[0m |\n",
      "| \u001b[0m10       \u001b[0m | \u001b[0m0.9088   \u001b[0m | \u001b[0m1.351    \u001b[0m | \u001b[0m2.528    \u001b[0m | \u001b[0m26.95    \u001b[0m |\n",
      "| \u001b[0m11       \u001b[0m | \u001b[0m0.7871   \u001b[0m | \u001b[0m1.885    \u001b[0m | \u001b[0m4.79     \u001b[0m | \u001b[0m28.95    \u001b[0m |\n",
      "| \u001b[0m12       \u001b[0m | \u001b[0m0.9088   \u001b[0m | \u001b[0m5.798    \u001b[0m | \u001b[0m7.227    \u001b[0m | \u001b[0m12.89    \u001b[0m |\n",
      "| \u001b[0m13       \u001b[0m | \u001b[0m0.8165   \u001b[0m | \u001b[0m7.179    \u001b[0m | \u001b[0m8.512    \u001b[0m | \u001b[0m5.457    \u001b[0m |\n",
      "| \u001b[0m14       \u001b[0m | \u001b[0m0.8084   \u001b[0m | \u001b[0m7.751    \u001b[0m | \u001b[0m9.9      \u001b[0m | \u001b[0m23.7     \u001b[0m |\n",
      "| \u001b[0m15       \u001b[0m | \u001b[0m0.7843   \u001b[0m | \u001b[0m3.524    \u001b[0m | \u001b[0m8.104    \u001b[0m | \u001b[0m7.581    \u001b[0m |\n",
      "| \u001b[0m16       \u001b[0m | \u001b[0m0.8776   \u001b[0m | \u001b[0m5.031    \u001b[0m | \u001b[0m9.177    \u001b[0m | \u001b[0m12.34    \u001b[0m |\n",
      "| \u001b[0m17       \u001b[0m | \u001b[0m0.8459   \u001b[0m | \u001b[0m3.59     \u001b[0m | \u001b[0m2.17     \u001b[0m | \u001b[0m5.484    \u001b[0m |\n",
      "| \u001b[0m18       \u001b[0m | \u001b[0m0.8776   \u001b[0m | \u001b[0m7.11     \u001b[0m | \u001b[0m2.905    \u001b[0m | \u001b[0m11.64    \u001b[0m |\n",
      "| \u001b[0m19       \u001b[0m | \u001b[0m0.9075   \u001b[0m | \u001b[0m5.424    \u001b[0m | \u001b[0m1.48     \u001b[0m | \u001b[0m19.35    \u001b[0m |\n",
      "| \u001b[0m20       \u001b[0m | \u001b[0m0.9075   \u001b[0m | \u001b[0m2.321    \u001b[0m | \u001b[0m6.304    \u001b[0m | \u001b[0m22.49    \u001b[0m |\n",
      "| \u001b[0m21       \u001b[0m | \u001b[0m0.9088   \u001b[0m | \u001b[0m3.428    \u001b[0m | \u001b[0m6.686    \u001b[0m | \u001b[0m17.97    \u001b[0m |\n",
      "| \u001b[0m22       \u001b[0m | \u001b[0m0.9075   \u001b[0m | \u001b[0m1.0      \u001b[0m | \u001b[0m2.746    \u001b[0m | \u001b[0m20.15    \u001b[0m |\n",
      "| \u001b[0m23       \u001b[0m | \u001b[0m0.9088   \u001b[0m | \u001b[0m9.216    \u001b[0m | \u001b[0m6.922    \u001b[0m | \u001b[0m15.06    \u001b[0m |\n",
      "| \u001b[0m24       \u001b[0m | \u001b[0m0.9088   \u001b[0m | \u001b[0m6.282    \u001b[0m | \u001b[0m4.354    \u001b[0m | \u001b[0m15.48    \u001b[0m |\n",
      "| \u001b[0m25       \u001b[0m | \u001b[0m0.8776   \u001b[0m | \u001b[0m6.801    \u001b[0m | \u001b[0m10.0     \u001b[0m | \u001b[0m16.36    \u001b[0m |\n",
      "| \u001b[0m26       \u001b[0m | \u001b[0m0.9075   \u001b[0m | \u001b[0m1.0      \u001b[0m | \u001b[0m1.0      \u001b[0m | \u001b[0m25.02    \u001b[0m |\n",
      "| \u001b[0m27       \u001b[0m | \u001b[0m0.8776   \u001b[0m | \u001b[0m10.0     \u001b[0m | \u001b[0m1.0      \u001b[0m | \u001b[0m15.68    \u001b[0m |\n",
      "| \u001b[0m28       \u001b[0m | \u001b[0m0.8776   \u001b[0m | \u001b[0m1.0      \u001b[0m | \u001b[0m1.0      \u001b[0m | \u001b[0m16.24    \u001b[0m |\n",
      "| \u001b[0m29       \u001b[0m | \u001b[0m0.8755   \u001b[0m | \u001b[0m1.0      \u001b[0m | \u001b[0m10.0     \u001b[0m | \u001b[0m16.42    \u001b[0m |\n",
      "| \u001b[0m30       \u001b[0m | \u001b[0m0.9075   \u001b[0m | \u001b[0m3.848    \u001b[0m | \u001b[0m4.004    \u001b[0m | \u001b[0m20.15    \u001b[0m |\n",
      "| \u001b[95m31       \u001b[0m | \u001b[95m0.9696   \u001b[0m | \u001b[95m5.234    \u001b[0m | \u001b[95m1.0      \u001b[0m | \u001b[95m26.25    \u001b[0m |\n",
      "| \u001b[0m32       \u001b[0m | \u001b[0m0.8788   \u001b[0m | \u001b[0m7.469    \u001b[0m | \u001b[0m1.0      \u001b[0m | \u001b[0m28.13    \u001b[0m |\n",
      "| \u001b[0m33       \u001b[0m | \u001b[0m0.8788   \u001b[0m | \u001b[0m5.496    \u001b[0m | \u001b[0m1.0      \u001b[0m | \u001b[0m24.07    \u001b[0m |\n",
      "| \u001b[0m34       \u001b[0m | \u001b[0m0.8776   \u001b[0m | \u001b[0m3.815    \u001b[0m | \u001b[0m1.0      \u001b[0m | \u001b[0m27.3     \u001b[0m |\n",
      "| \u001b[0m35       \u001b[0m | \u001b[0m0.8488   \u001b[0m | \u001b[0m5.791    \u001b[0m | \u001b[0m2.174    \u001b[0m | \u001b[0m26.35    \u001b[0m |\n",
      "| \u001b[0m36       \u001b[0m | \u001b[0m0.8479   \u001b[0m | \u001b[0m4.517    \u001b[0m | \u001b[0m1.0      \u001b[0m | \u001b[0m25.68    \u001b[0m |\n",
      "| \u001b[0m37       \u001b[0m | \u001b[0m0.9075   \u001b[0m | \u001b[0m1.151    \u001b[0m | \u001b[0m3.325    \u001b[0m | \u001b[0m25.01    \u001b[0m |\n",
      "| \u001b[0m38       \u001b[0m | \u001b[0m0.8755   \u001b[0m | \u001b[0m3.811    \u001b[0m | \u001b[0m5.916    \u001b[0m | \u001b[0m25.67    \u001b[0m |\n",
      "| \u001b[0m39       \u001b[0m | \u001b[0m0.9075   \u001b[0m | \u001b[0m5.176    \u001b[0m | \u001b[0m2.223    \u001b[0m | \u001b[0m19.18    \u001b[0m |\n",
      "| \u001b[0m40       \u001b[0m | \u001b[0m0.9075   \u001b[0m | \u001b[0m2.716    \u001b[0m | \u001b[0m4.125    \u001b[0m | \u001b[0m14.96    \u001b[0m |\n",
      "=============================================================\n",
      "Bayes optimization takes 1.85 seconds to tune\n",
      "{'target': 0.9695840040667628, 'params': {'c': 5.234269968701008, 'gamma': 1.0, 'k1': 26.254436738122727}}\n"
     ]
    }
   ],
   "source": [
    "pbounds = {\n",
    "    'k1': (5, 30),\n",
    "    'c': (1, 10),\n",
    "    'gamma': (1, 10)\n",
    "    }\n",
    "\n",
    "optimizer = BayesianOptimization(\n",
    "    f=my_svm,\n",
    "    pbounds=pbounds,\n",
    "    verbose=2,\n",
    "    random_state=1,\n",
    ")\n",
    "\n",
    "start = time.time()\n",
    "optimizer.maximize(init_points=20, n_iter=20)\n",
    "end = time.time()\n",
    "print('Bayes optimization takes {:.2f} seconds to tune'.format(end - start))\n",
    "print(optimizer.max)"
   ]
  },
  {
   "cell_type": "markdown",
   "metadata": {},
   "source": [
    "## Perform Binary classification"
   ]
  },
  {
   "cell_type": "code",
   "execution_count": 113,
   "metadata": {},
   "outputs": [
    {
     "name": "stdout",
     "output_type": "stream",
     "text": [
      "Loss: 0.10666666666666666\n",
      "Accuracy: 0.9696969696969697\n",
      "Precision: 0.9712918660287082\n",
      "Recall: 0.9696969696969697\n",
      "F1 Score: 0.9695840040667628\n",
      "TP: 32\n",
      "TN: 32\n",
      "FP: 1\n",
      "FN: 1\n",
      "AUC: 0.9851851851851852\n",
      "Bias: 0.06060606060606061\n",
      "Variance: 0.09121212121212123\n",
      "CPU Usage: -4.5%\n",
      "Memory Usage: -0.10000000000000853%\n",
      "GPU Usage: 0.0%\n",
      "Execution Time: 0.0 seconds\n"
     ]
    }
   ],
   "source": [
    "# Perform feature selection\n",
    "selector = SelectKBest(score_func=f_classif, k=26)\n",
    "X_selected = selector.fit_transform(X, y)\n",
    "\n",
    "# split data into train and test sets\n",
    "\n",
    "X_train, X_test, y_train, y_test = train_test_split(X_selected, y, test_size=0.2, random_state=42)\n",
    "\n",
    "# Get GPU usage before running your code\n",
    "start_gpu_usage = GPUtil.getGPUs()[0].load * 100\n",
    "\n",
    "# Get CPU and Memory usage before running your code\n",
    "start_memory_usage = psutil.virtual_memory().percent\n",
    "start_cpu_usage = psutil.cpu_percent()\n",
    "\n",
    "start_time = time.time()\n",
    "\n",
    "# Create a SVM classifier\n",
    "clf = SVC(C=5.234, gamma=1)\n",
    "\n",
    "# Train the classifier\n",
    "clf.fit(X_train, y_train)\n",
    "\n",
    "# Make predictions on the test data\n",
    "y_pred = clf.predict(X_test)\n",
    "\n",
    "execution_time = time.time() - start_time\n",
    "\n",
    "# Get CPU and Memory usage after running your code\n",
    "end_cpu_usage = psutil.cpu_percent()\n",
    "end_memory_usage = psutil.virtual_memory().percent\n",
    "# Get GPU usage after running your code\n",
    "end_gpu_usage = GPUtil.getGPUs()[0].load * 100\n",
    "\n",
    "# Evaluate the performance of the classifier\n",
    "accuracy = accuracy_score(y_test, y_pred)\n",
    "precision = precision_score(y_test, y_pred, average='weighted')\n",
    "recall = recall_score(y_test, y_pred, average='weighted')\n",
    "f1 = f1_score(y_test, y_pred, average='weighted')\n",
    "\n",
    "# ROC curve multi-class classification\n",
    "y_prob = clf.decision_function(X_test)\n",
    "macro_roc_auc_ovo = roc_auc_score(y_test.to_numpy(), y_prob, multi_class=\"ovo\", average=\"macro\")\n",
    "\n",
    "# Confusion matrix\n",
    "cm = confusion_matrix(y_test, y_pred)\n",
    "\n",
    "# Get the TP, TN, FP, FN values\n",
    "FP = cm.sum(axis=0) - np.diag(cm)  \n",
    "FN = cm.sum(axis=1) - np.diag(cm)\n",
    "TP = np.diag(cm)\n",
    "TN = cm.sum() - (FP + FN + TP)\n",
    "\n",
    "# Get the bias and variance of the classifier\n",
    "loss, bias, var = bias_variance_decomp(clf,X_train, y_train.to_numpy(), X_test, y_test.to_numpy(), loss='0-1_loss',random_seed=23)\n",
    "\n",
    "# Print the evaluation metrics\n",
    "print(\"Loss:\", loss)\n",
    "print(\"Accuracy:\", accuracy)\n",
    "print(\"Precision:\", precision)\n",
    "print(\"Recall:\", recall)\n",
    "print(\"F1 Score:\", f1)\n",
    "print(\"TP:\", TP.sum())\n",
    "print(\"TN:\", TN.sum())\n",
    "print(\"FP:\", FP.sum())\n",
    "print(\"FN:\", FN.sum())\n",
    "print(\"AUC:\", macro_roc_auc_ovo)\n",
    "print(\"Bias:\", bias)\n",
    "print(\"Variance:\", var)\n",
    "print(f\"CPU Usage: {end_cpu_usage - start_cpu_usage}%\")\n",
    "print(f\"Memory Usage: {end_memory_usage - start_memory_usage}%\")\n",
    "print(f\"GPU Usage: {end_gpu_usage - start_gpu_usage}%\")\n",
    "print(f\"Execution Time: {execution_time} seconds\")"
   ]
  },
  {
   "cell_type": "code",
   "execution_count": 102,
   "metadata": {},
   "outputs": [
    {
     "data": {
      "image/png": "[encoded data removed]",
      "text/plain": [
       "<Figure size 500x500 with 1 Axes>"
      ]
     },
     "metadata": {},
     "output_type": "display_data"
    }
   ],
   "source": [
    "plt.figure(figsize=(5, 5))\n",
    "sns.heatmap(cm, annot=True, fmt='d', cmap='Blues', cbar=False)\n",
    "plt.xlabel('Predicted')\n",
    "plt.ylabel('Actual')\n",
    "plt.show()"
   ]
  },
  {
   "cell_type": "code",
   "execution_count": 103,
   "metadata": {},
   "outputs": [
    {
     "data": {
      "image/png": "[encoded data removed]",
      "text/plain": [
       "<Figure size 640x480 with 1 Axes>"
      ]
     },
     "metadata": {},
     "output_type": "display_data"
    }
   ],
   "source": [
    "# Compute the false positive rate, true positive rate, and thresholds\n",
    "fpr, tpr, thresholds = roc_curve(y_test, y_prob)\n",
    "\n",
    "# Compute the area under the ROC curve\n",
    "roc_auc = auc(fpr, tpr)\n",
    "\n",
    "# Plot the ROC curve\n",
    "plt.plot(fpr, tpr, label='ROC curve (area = {:.2f})'.format(roc_auc))\n",
    "plt.plot([0, 1], [0, 1], 'k--')\n",
    "plt.xlim([0.0, 1.0])\n",
    "plt.ylim([0.0, 1.05])\n",
    "plt.xlabel('False Positive Rate')\n",
    "plt.ylabel('True Positive Rate')\n",
    "plt.title('Receiver Operating Characteristic')\n",
    "plt.legend(loc=\"lower right\")\n",
    "plt.show()"
   ]
  }
 ],
 "metadata": {
  "kernelspec": {
   "display_name": "Python 3",
   "language": "python",
   "name": "python3"
  },
  "language_info": {
   "codemirror_mode": {
    "name": "ipython",
    "version": 3
   },
   "file_extension": ".py",
   "mimetype": "text/x-python",
   "name": "python",
   "nbconvert_exporter": "python",
   "pygments_lexer": "ipython3",
   "version": "3.11.8"
  }
 },
 "nbformat": 4,
 "nbformat_minor": 2
}
